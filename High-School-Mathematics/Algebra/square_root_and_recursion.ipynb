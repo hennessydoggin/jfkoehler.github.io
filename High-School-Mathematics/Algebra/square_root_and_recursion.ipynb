{
 "cells": [
  {
   "cell_type": "markdown",
   "metadata": {},
   "source": [
    "# Square Roots and Recursion\n",
    "\n",
    "In this notebook you will investigate how to compute square roots using an approximation algorithm.  Through this algorithm you will discover a couple of tools to look at representing a problem described as an iterative operation.  After investigating the computation of square roots, the tools can be extended to investigating arithmetic and geometric sequences."
   ]
  },
  {
   "cell_type": "markdown",
   "metadata": {},
   "source": [
    "### Computing Square Roots\n",
    "\n",
    "Suppose we have a guess that we think is close to $\\sqrt{2}$\n",
    "\n",
    "$$x_1 \\approx \\sqrt{2} \\quad \\rightarrow \\quad x_1 \\times x_1 \\approx 2 \\quad \\rightarrow \\quad x_1 \\approx \\frac{2}{x_1}$$\n",
    "\n",
    "Either $x_1$ is a better guess or $\\frac{2}{x}$, but even better still would be the average of the two:\n",
    "\n",
    "$$x_2 = \\frac{1}{2} \\big(x_1 + \\frac{2}{x_1}\\big)$$\n",
    "\n",
    "If we continue in this manner we will get better and better approximations:\n",
    "\n",
    "$$x_3 = \\frac{1}{2} \\big(x_2 + \\frac{2}{x_2}\\big)$$\n",
    "\n",
    "$$x_4 = \\frac{1}{2} \\big(x_3 + \\frac{2}{x_3}\\big)$$\n",
    "\n",
    "$$x_5 = \\frac{1}{2} \\big(x_4 + \\frac{2}{x_4}\\big)$$\n",
    "\n",
    "$$\\vdots$$\n",
    "\n",
    "$$x_{n+1} = \\frac{1}{2} \\big(x_n + \\frac{2}{x_n}\\big)$$"
   ]
  },
  {
   "cell_type": "code",
   "execution_count": 1,
   "metadata": {
    "collapsed": false
   },
   "outputs": [
    {
     "data": {
      "text/plain": [
       "1.5"
      ]
     },
     "execution_count": 1,
     "metadata": {},
     "output_type": "execute_result"
    }
   ],
   "source": [
    "x1 = 2\n",
    "x2 = 0.5*(x1 + 2/x1)\n",
    "x2"
   ]
  },
  {
   "cell_type": "markdown",
   "metadata": {},
   "source": [
    "In the cells below, compute the first seven approximations of $\\sqrt{2}$."
   ]
  },
  {
   "cell_type": "code",
   "execution_count": 2,
   "metadata": {
    "collapsed": false
   },
   "outputs": [
    {
     "data": {
      "text/plain": [
       "1.4166666666666665"
      ]
     },
     "execution_count": 2,
     "metadata": {},
     "output_type": "execute_result"
    }
   ],
   "source": [
    "x3 = 0.5*(x2 + 2/x2)\n",
    "x3"
   ]
  },
  {
   "cell_type": "code",
   "execution_count": 3,
   "metadata": {
    "collapsed": false
   },
   "outputs": [
    {
     "data": {
      "text/plain": [
       "1.4142156862745097"
      ]
     },
     "execution_count": 3,
     "metadata": {},
     "output_type": "execute_result"
    }
   ],
   "source": [
    "x4 = 0.5*(x3 + 2/x3)\n",
    "x4"
   ]
  },
  {
   "cell_type": "code",
   "execution_count": 4,
   "metadata": {
    "collapsed": false
   },
   "outputs": [
    {
     "ename": "SyntaxError",
     "evalue": "invalid syntax (<ipython-input-4-3753077ed991>, line 1)",
     "output_type": "error",
     "traceback": [
      "\u001b[0;36m  File \u001b[0;32m\"<ipython-input-4-3753077ed991>\"\u001b[0;36m, line \u001b[0;32m1\u001b[0m\n\u001b[0;31m    x5=\u001b[0m\n\u001b[0m       ^\u001b[0m\n\u001b[0;31mSyntaxError\u001b[0m\u001b[0;31m:\u001b[0m invalid syntax\n"
     ]
    }
   ],
   "source": [
    "x5="
   ]
  },
  {
   "cell_type": "code",
   "execution_count": null,
   "metadata": {
    "collapsed": false
   },
   "outputs": [],
   "source": [
    "x6="
   ]
  },
  {
   "cell_type": "code",
   "execution_count": null,
   "metadata": {
    "collapsed": false
   },
   "outputs": [],
   "source": [
    "x7="
   ]
  },
  {
   "cell_type": "markdown",
   "metadata": {},
   "source": [
    "### Finding values at different values of $x$\n",
    "\n",
    "If we wanted to find the value of some function $f(x)$ for $x=0,1,2,3,...,10$ we can use the **for** command.  To generate these values of $x$ we could write:\n",
    "\n",
    "`for x in range(10)`"
   ]
  },
  {
   "cell_type": "code",
   "execution_count": null,
   "metadata": {
    "collapsed": false
   },
   "outputs": [],
   "source": [
    "for x in range(5):\n",
    "    print(x)"
   ]
  },
  {
   "cell_type": "markdown",
   "metadata": {},
   "source": [
    "Note that if we wanted to shift the index to begin at 1 we can change our command to:\n",
    "\n",
    "`for x in range(1,5)`"
   ]
  },
  {
   "cell_type": "code",
   "execution_count": null,
   "metadata": {
    "collapsed": false
   },
   "outputs": [],
   "source": [
    "for x in range(1,5):\n",
    "    print(x)"
   ]
  },
  {
   "cell_type": "code",
   "execution_count": null,
   "metadata": {
    "collapsed": false
   },
   "outputs": [],
   "source": [
    "for x in range(1,11):\n",
    "    print (x, x**2)"
   ]
  },
  {
   "cell_type": "markdown",
   "metadata": {},
   "source": [
    "### Putting it together\n",
    "\n"
   ]
  },
  {
   "cell_type": "code",
   "execution_count": 5,
   "metadata": {
    "collapsed": true
   },
   "outputs": [],
   "source": [
    "import matplotlib.pyplot as plt\n",
    "import numpy as np\n",
    "%matplotlib inline"
   ]
  },
  {
   "cell_type": "code",
   "execution_count": 6,
   "metadata": {
    "collapsed": true
   },
   "outputs": [],
   "source": [
    "def next_iteration(x,a):\n",
    "    return 0.5*(x + a/x)"
   ]
  },
  {
   "cell_type": "code",
   "execution_count": 7,
   "metadata": {
    "collapsed": false
   },
   "outputs": [
    {
     "name": "stdout",
     "output_type": "stream",
     "text": [
      "What would you like to know the square root of, 7\n",
      "0 4.0\n",
      "1 2.875\n",
      "2 2.654891304347826\n",
      "3 2.64576704419029\n",
      "4 2.6457513111113693\n",
      "5 2.6457513110645907\n",
      "6 2.6457513110645907\n",
      "7 2.6457513110645907\n",
      "8 2.6457513110645907\n",
      "9 2.6457513110645907\n"
     ]
    }
   ],
   "source": [
    "a = int(input(\"What would you like to know the square root of, \"))\n",
    "xold = a\n",
    "for i in range(10):\n",
    "    x = next_iteration(xold, a)\n",
    "    xold = x\n",
    "    print (i, x)"
   ]
  },
  {
   "cell_type": "code",
   "execution_count": 17,
   "metadata": {
    "collapsed": false
   },
   "outputs": [
    {
     "name": "stdout",
     "output_type": "stream",
     "text": [
      "What would you like to know the square root of, 7\n"
     ]
    },
    {
     "name": "stderr",
     "output_type": "stream",
     "text": [
      "/Users/NYCMath/anaconda/lib/python3.5/site-packages/matplotlib/axes/_base.py:2787: UserWarning: Attempting to set identical left==right results\n",
      "in singular transformations; automatically expanding.\n",
      "left=0, right=0\n",
      "  'left=%s, right=%s') % (left, right))\n"
     ]
    },
    {
     "data": {
      "image/png": "[encoded data removed]",
      "text/plain": [
       "<matplotlib.figure.Figure at 0x10c4129b0>"
      ]
     },
     "metadata": {},
     "output_type": "display_data"
    }
   ],
   "source": [
    "a = int(input(\"What would you like to know the square root of, \"))\n",
    "x1=list()\n",
    "y1=list()\n",
    "xold = a\n",
    "for i in range(10):\n",
    "    x = next_iteration(xold, a)\n",
    "    xold = x\n",
    "    x1.append(i)\n",
    "    y1.append(xold)\n",
    "    plt.plot(x1,y1,marker='o')\n",
    "    plt.xlim(0,i)\n",
    "    plt.ylim(np.sqrt(a)-1,np.sqrt(a)+1)\n",
    "    plt.title('Square Root Approximation')\n",
    "    plt.xlabel('Approximation Index')\n",
    "    plt.ylabel('Approximate Value for Square Root')"
   ]
  },
  {
   "cell_type": "code",
   "execution_count": null,
   "metadata": {
    "collapsed": false
   },
   "outputs": [],
   "source": [
    "plt.plot(xa,y)"
   ]
  },
  {
   "cell_type": "code",
   "execution_count": null,
   "metadata": {
    "collapsed": false
   },
   "outputs": [],
   "source": [
    "xa=list()\n",
    "y=list()\n",
    "\n",
    "a = 4\n",
    "for i in range(5):\n",
    "    x = next_expx(a)\n",
    "    xa.append(float(i))\n",
    "    y.append(float(a))\n",
    "    print(i,a)\n",
    "    a=x"
   ]
  },
  {
   "cell_type": "code",
   "execution_count": null,
   "metadata": {
    "collapsed": false
   },
   "outputs": [],
   "source": [
    "plt.plot(xa,y)"
   ]
  },
  {
   "cell_type": "markdown",
   "metadata": {},
   "source": [
    "#### How good is the approximation?\n",
    "\n",
    "Notice that after the $6^{th}$ approximation the values seem to not change much.  If we wanted to stop after we have reached a certain accuracy, we can add in a conditional statement to the **for** loop.  \n",
    "\n",
    "Suppose we want to have an approximation that is good to the $10^{th}$ decimal place (i.e. $10^{-10}$)."
   ]
  },
  {
   "cell_type": "code",
   "execution_count": null,
   "metadata": {
    "collapsed": false
   },
   "outputs": [],
   "source": [
    "a = 7.0\n",
    "xold = a\n",
    "for i in range(10):\n",
    "    x = next_iteration(xold, a)\n",
    "    i = i + 1\n",
    "    print (i, x)\n",
    "    if abs(x-xold)<1e-10:\n",
    "        print('Done!')\n",
    "        break\n",
    "    xold = x\n",
    "    "
   ]
  },
  {
   "cell_type": "code",
   "execution_count": null,
   "metadata": {
    "collapsed": false
   },
   "outputs": [],
   "source": [
    "fig=plt.figure\n",
    "\n",
    "\n",
    "a = 7.0\n",
    "x=list()\n",
    "y=list()\n",
    "xold = a\n",
    "\n",
    "for i in range(10):\n",
    "    xupdate = next_iteration(xold, a)\n",
    "    i = i + 0.1\n",
    "    xold = xupdate\n",
    "    x.append(i)\n",
    "    y.append(xold)\n",
    "    plt.plot(x,y,marker='2')\n",
    "    plt.xlim(0,i)\n",
    "    plt.ylim(np.sqrt(a)-1,np.sqrt(a)+1)\n",
    "    \n",
    "    \n"
   ]
  },
  {
   "cell_type": "code",
   "execution_count": null,
   "metadata": {
    "collapsed": false
   },
   "outputs": [],
   "source": [
    "plt.plot(x,y,'o')\n",
    "plt.xlim(0,i)\n",
    "plt.ylim(np.sqrt(a)-1,np.sqrt(a)+1)\n",
    "plt.title('Babylonian Square Root Approximation')\n",
    "plt.xlabel('Approximation Index')\n",
    "plt.ylabel('Approximate Value for Square Root')\n"
   ]
  },
  {
   "cell_type": "markdown",
   "metadata": {},
   "source": [
    "### Arithmetic and Geometric Examples\n",
    "\n",
    "A similar approach can be used in investigating arithmetic and geometric sequences viewed recursively.  Defining a function to represent the next iteration--whether adding or multiplying--we can see the way these patterns generate linear and exponential behavior.  Use the following functions to investigate the behavior of the two different situations."
   ]
  },
  {
   "cell_type": "code",
   "execution_count": null,
   "metadata": {
    "collapsed": false
   },
   "outputs": [],
   "source": [
    "def next_linx(a):\n",
    "    return a + 3\n"
   ]
  },
  {
   "cell_type": "code",
   "execution_count": null,
   "metadata": {
    "collapsed": true
   },
   "outputs": [],
   "source": [
    "def next_expx(a):\n",
    "    return a*3"
   ]
  },
  {
   "cell_type": "code",
   "execution_count": null,
   "metadata": {
    "collapsed": true
   },
   "outputs": [],
   "source": []
  }
 ],
 "metadata": {
  "kernelspec": {
   "display_name": "Python 3",
   "language": "python",
   "name": "python3"
  },
  "language_info": {
   "codemirror_mode": {
    "name": "ipython",
    "version": 3
   },
   "file_extension": ".py",
   "mimetype": "text/x-python",
   "name": "python",
   "nbconvert_exporter": "python",
   "pygments_lexer": "ipython3",
   "version": "3.5.1"
  }
 },
 "nbformat": 4,
 "nbformat_minor": 0
}
