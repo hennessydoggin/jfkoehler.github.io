{
 "cells": [
  {
   "cell_type": "markdown",
   "metadata": {},
   "source": [
    "# Problem\n",
    "\n",
    "1. Compute the following approximation for $y=x^2$ on `[0,5]`:\n",
    "\n",
    "    a. With 10 rectangles constructed on the right endpoints of the subintervals.\n",
    "    \n",
    "    b. With 15 rectangles constructed on the left endpoints of the subintervals."
   ]
  },
  {
   "cell_type": "code",
   "execution_count": 12,
   "metadata": {
    "collapsed": false
   },
   "outputs": [],
   "source": [
    "%matplotlib inline     \n",
    "import matplotlib.pyplot as plt \n",
    "import numpy as np \n",
    "import sympy as sy"
   ]
  },
  {
   "cell_type": "code",
   "execution_count": 7,
   "metadata": {
    "collapsed": true
   },
   "outputs": [],
   "source": [
    "def f(x):\n",
    "    return x**2"
   ]
  },
  {
   "cell_type": "markdown",
   "metadata": {},
   "source": [
    "## With 15 Rectangles"
   ]
  },
  {
   "cell_type": "markdown",
   "metadata": {},
   "source": [
    "## Left Hand Approximations"
   ]
  },
  {
   "cell_type": "code",
   "execution_count": 8,
   "metadata": {
    "collapsed": false
   },
   "outputs": [
    {
     "name": "stdout",
     "output_type": "stream",
     "text": [
      "What is the left endpoint 0\n",
      "What is the right endpoint 4\n",
      "value of n 10\n",
      "The width of one interval is  0.4\n",
      "The heights are  [0.0, 0.16000000000000003, 0.6400000000000001, 1.4400000000000004, 2.5600000000000005, 4.0, 5.760000000000002, 7.840000000000002, 10.240000000000002, 12.96]\n",
      "The area is approximately  18.24\n"
     ]
    },
    {
     "data": {
      "text/plain": [
       "18.240000000000006"
      ]
     },
     "execution_count": 8,
     "metadata": {},
     "output_type": "execute_result"
    }
   ],
   "source": [
    "\n",
    "a = int(input(\"What is the left endpoint \"))\n",
    "b = int(input(\"What is the right endpoint \"))\n",
    "n = int(input(\"value of n \"))\n",
    "\n",
    "def riemanL(f,a,b,n):\n",
    "   \n",
    "    width = (b-a)/float(n)\n",
    "    print('The width of one interval is ', width)\n",
    "\n",
    "    heights = [f(a+i*width) for i in range(n)]\n",
    "    print('The heights are ', heights)\n",
    "    \n",
    "    area = width * np.sum(heights)\n",
    "    print('The area is approximately ', area)\n",
    "    \n",
    "    return area\n",
    "\n",
    "riemanL(f,a,b,n)"
   ]
  },
  {
   "cell_type": "markdown",
   "metadata": {},
   "source": [
    "## Right Handed Approximations"
   ]
  },
  {
   "cell_type": "code",
   "execution_count": 5,
   "metadata": {
    "collapsed": false
   },
   "outputs": [
    {
     "name": "stdout",
     "output_type": "stream",
     "text": [
      "What is the left endpoint 0\n",
      "What is the right endpoint 5\n",
      "How many rectangles do you want to use 15\n",
      "The width of one interval is  0.3333333333333333\n",
      "The area is approximately  45.9259259259\n"
     ]
    },
    {
     "data": {
      "text/plain": [
       "45.925925925925924"
      ]
     },
     "execution_count": 5,
     "metadata": {},
     "output_type": "execute_result"
    }
   ],
   "source": [
    "\n",
    "\n",
    "a = int(input(\"What is the left endpoint \"))\n",
    "b = int(input(\"What is the right endpoint \"))\n",
    "n = int(input(\"How many rectangles do you want to use \"))\n",
    "\n",
    "def riemanR(f,a,b,n):\n",
    "   \n",
    "    width = (b-a)/float(n)\n",
    "    print('The width of one interval is ', width)\n",
    "    \n",
    "    a= a+width\n",
    "    \n",
    "    heights = [f(a+i*width) for i in range(n)]\n",
    "    \n",
    "    area = width * np.sum(heights)\n",
    "    print('The area is approximately ', area)\n",
    "    \n",
    "    return area\n",
    "\n",
    "riemanR(f,a,b,n)"
   ]
  },
  {
   "cell_type": "markdown",
   "metadata": {},
   "source": [
    "## Width 10 Rectangles\n",
    "\n",
    "## Left Handed Approximations"
   ]
  },
  {
   "cell_type": "code",
   "execution_count": 7,
   "metadata": {
    "collapsed": false
   },
   "outputs": [
    {
     "name": "stdout",
     "output_type": "stream",
     "text": [
      "What is the left endpoint 0\n",
      "What is the right endpoint 5\n",
      "How many rectangles do you want to use 10\n",
      "The width of one interval is  0.5\n",
      "The area is approximately  48.125\n"
     ]
    },
    {
     "data": {
      "text/plain": [
       "48.125"
      ]
     },
     "execution_count": 7,
     "metadata": {},
     "output_type": "execute_result"
    }
   ],
   "source": [
    "\n",
    "a = int(input(\"What is the left endpoint \"))\n",
    "b = int(input(\"What is the right endpoint \"))\n",
    "n = int(input(\"How many rectangles do you want to use \"))\n",
    "\n",
    "def riemanR(f,a,b,n):\n",
    "   \n",
    "    width = (b-a)/float(n)\n",
    "    print('The width of one interval is ', width)\n",
    "    \n",
    "    a= a+width\n",
    "    \n",
    "    heights = [f(a+i*width) for i in range(n)]\n",
    "    \n",
    "    area = width * np.sum(heights)\n",
    "    print('The area is approximately ', area)\n",
    "    \n",
    "    return area\n",
    "\n",
    "riemanR(f,a,b,n)"
   ]
  },
  {
   "cell_type": "markdown",
   "metadata": {},
   "source": [
    "## Right Handed Approximations"
   ]
  },
  {
   "cell_type": "code",
   "execution_count": 8,
   "metadata": {
    "collapsed": false
   },
   "outputs": [
    {
     "name": "stdout",
     "output_type": "stream",
     "text": [
      "What is the left endpoint 0\n",
      "What is the right endpoint 5\n",
      "How many rectangles do you want to use 10\n",
      "The width of one interval is  0.5\n",
      "The area is approximately  48.125\n"
     ]
    },
    {
     "data": {
      "text/plain": [
       "48.125"
      ]
     },
     "execution_count": 8,
     "metadata": {},
     "output_type": "execute_result"
    }
   ],
   "source": [
    "\n",
    "a = int(input(\"What is the left endpoint \"))\n",
    "b = int(input(\"What is the right endpoint \"))\n",
    "n = int(input(\"How many rectangles do you want to use \"))\n",
    "\n",
    "def riemanR(f,a,b,n):\n",
    "   \n",
    "    width = (b-a)/float(n)\n",
    "    print('The width of one interval is ', width)\n",
    "    \n",
    "    a= a+width\n",
    "    \n",
    "    heights = [f(a+i*width) for i in range(n)]\n",
    "    \n",
    "    area = width * np.sum(heights)\n",
    "    print('The area is approximately ', area)\n",
    "    \n",
    "    return area\n",
    "\n",
    "riemanR(f,a,b,n)\n"
   ]
  },
  {
   "cell_type": "markdown",
   "metadata": {},
   "source": [
    " # Trapezoidal"
   ]
  },
  {
   "cell_type": "markdown",
   "metadata": {},
   "source": [
    "\n",
    "\n",
    "$$\\int_a^b f(x) dx ≈ \\frac{\\Delta x}{2}[f(x_0)+2f(x_1)+2f(x_2)+\\dots +2f(x_{n-1})+f(x_n)] $$\n",
    "\n",
    "$$\\Delta x = \\frac{b-a}{n} $$"
   ]
  },
  {
   "cell_type": "markdown",
   "metadata": {},
   "source": [
    "## With 15 Trapezoids"
   ]
  },
  {
   "cell_type": "code",
   "execution_count": 10,
   "metadata": {
    "collapsed": true
   },
   "outputs": [],
   "source": [
    "import pylab\n",
    "import numpy as np\n",
    "\n",
    "def f(x):\n",
    "    return x**2"
   ]
  },
  {
   "cell_type": "code",
   "execution_count": 11,
   "metadata": {
    "collapsed": false
   },
   "outputs": [
    {
     "name": "stdout",
     "output_type": "stream",
     "text": [
      "What is the left endpoint 0\n",
      "What is the right endpoint 5\n",
      "How many rectangles do you want to use 15\n",
      "the area using the trapezoidal method is\n"
     ]
    },
    {
     "data": {
      "text/plain": [
       "41.759259259259252"
      ]
     },
     "execution_count": 11,
     "metadata": {},
     "output_type": "execute_result"
    }
   ],
   "source": [
    "a = int(input(\"What is the left endpoint \"))\n",
    "b = int(input(\"What is the right endpoint \"))\n",
    "n = int(input(\"How many rectangles do you want to use \"))\n",
    "\n",
    "##main function\n",
    "def trap(f,a,b,n):\n",
    "    width = (b-a)/float(n)\n",
    "    bases = [f(a+i*width) for i in range(n+1)]\n",
    "    \n",
    "    trapAdd=[(width/2)*(2*bases[q]) for q in range(n+1)]\n",
    "   \n",
    "    trapAdd[0]=(width/2)*bases[0]\n",
    "    \n",
    "    trapAdd[n]=(width/2)*bases[n]\n",
    "\n",
    "    trapTotal=np.sum(trapAdd)\n",
    "    \n",
    "    print('the area using the trapezoidal method is')\n",
    "    return trapTotal\n",
    "\n",
    "trap(f,a,b,n)\n"
   ]
  },
  {
   "cell_type": "markdown",
   "metadata": {},
   "source": [
    "## With 10 Trapezoids"
   ]
  },
  {
   "cell_type": "code",
   "execution_count": 12,
   "metadata": {
    "collapsed": false
   },
   "outputs": [
    {
     "name": "stdout",
     "output_type": "stream",
     "text": [
      "What is the left endpoint 0\n",
      "What is the right endpoint 5\n",
      "How many rectangles do you want to use 10\n",
      "the area using the trapezoidal method is\n"
     ]
    },
    {
     "data": {
      "text/plain": [
       "41.875"
      ]
     },
     "execution_count": 12,
     "metadata": {},
     "output_type": "execute_result"
    }
   ],
   "source": [
    "a = int(input(\"What is the left endpoint \"))\n",
    "b = int(input(\"What is the right endpoint \"))\n",
    "n = int(input(\"How many rectangles do you want to use \"))\n",
    "\n",
    "##main function\n",
    "def trap(f,a,b,n):\n",
    "    width = (b-a)/float(n)\n",
    "    bases = [f(a+i*width) for i in range(n+1)]\n",
    "    \n",
    "    trapAdd=[(width/2)*(2*bases[q]) for q in range(n+1)]\n",
    "   \n",
    "    trapAdd[0]=(width/2)*bases[0]\n",
    "    \n",
    "    trapAdd[n]=(width/2)*bases[n]\n",
    "\n",
    "    trapTotal=np.sum(trapAdd)\n",
    "    \n",
    "    print('the area using the trapezoidal method is')\n",
    "    return trapTotal\n",
    "\n",
    "trap(f,a,b,n)\n"
   ]
  },
  {
   "cell_type": "markdown",
   "metadata": {},
   "source": [
    "# Graphing"
   ]
  },
  {
   "cell_type": "code",
   "execution_count": 16,
   "metadata": {
    "collapsed": false
   },
   "outputs": [],
   "source": [
    "import pylab\n",
    "import numpy as np\n",
    "def f(x):\n",
    "    return x**2"
   ]
  },
  {
   "cell_type": "code",
   "execution_count": 17,
   "metadata": {
    "collapsed": false
   },
   "outputs": [
    {
     "ename": "NameError",
     "evalue": "name 'linspace' is not defined",
     "output_type": "error",
     "traceback": [
      "\u001b[0;31m---------------------------------------------------------------------------\u001b[0m",
      "\u001b[0;31mNameError\u001b[0m                                 Traceback (most recent call last)",
      "\u001b[0;32m<ipython-input-17-aa44acd2ed98>\u001b[0m in \u001b[0;36m<module>\u001b[0;34m()\u001b[0m\n\u001b[0;32m----> 1\u001b[0;31m \u001b[0mx1\u001b[0m\u001b[0;34m=\u001b[0m\u001b[0mlinspace\u001b[0m\u001b[0;34m(\u001b[0m\u001b[0;36m0\u001b[0m\u001b[0;34m,\u001b[0m\u001b[0;36m.3\u001b[0m\u001b[0;34m,\u001b[0m\u001b[0;36m15\u001b[0m\u001b[0;34m)\u001b[0m\u001b[0;34m\u001b[0m\u001b[0m\n\u001b[0m\u001b[1;32m      2\u001b[0m \u001b[0mx2\u001b[0m\u001b[0;34m=\u001b[0m\u001b[0mlinspace\u001b[0m\u001b[0;34m(\u001b[0m\u001b[0;36m0\u001b[0m\u001b[0;34m,\u001b[0m\u001b[0;36m.5\u001b[0m\u001b[0;34m,\u001b[0m\u001b[0;36m10\u001b[0m\u001b[0;34m)\u001b[0m\u001b[0;34m\u001b[0m\u001b[0m\n\u001b[1;32m      3\u001b[0m \u001b[0;32mdef\u001b[0m \u001b[0mf\u001b[0m\u001b[0;34m(\u001b[0m\u001b[0mx\u001b[0m\u001b[0;34m)\u001b[0m\u001b[0;34m:\u001b[0m\u001b[0;34m\u001b[0m\u001b[0m\n\u001b[1;32m      4\u001b[0m     \u001b[0;32mreturn\u001b[0m \u001b[0mx\u001b[0m\u001b[0;34m**\u001b[0m\u001b[0;36m2\u001b[0m\u001b[0;34m\u001b[0m\u001b[0m\n",
      "\u001b[0;31mNameError\u001b[0m: name 'linspace' is not defined"
     ]
    }
   ],
   "source": [
    "x1= np.linspace(0,.3,15)#this is a numpy function\n",
    "x2= linspace(0,.5,10)\n",
    "def f(x):\n",
    "    return x**2"
   ]
  },
  {
   "cell_type": "markdown",
   "metadata": {
    "collapsed": true
   },
   "source": [
    "#To graph trapezoids, am I just repeating the same steps as I did for the rectangles?\n",
    "\n",
    "\n",
    "\n",
    "\n",
    "The problem would be more complex, as you have to make lines connecting the two points at the top of the bases.  Don't worry about a graph of this, instead, just focus on getting the function to work and make sense."
   ]
  },
  {
   "cell_type": "code",
   "execution_count": 13,
   "metadata": {
    "collapsed": true
   },
   "outputs": [],
   "source": [
    "\n",
    "def f(x):\n",
    "    return x**2"
   ]
  },
  {
   "cell_type": "code",
   "execution_count": 15,
   "metadata": {
    "collapsed": false
   },
   "outputs": [],
   "source": [
    "x1=np.linspace(0,.3,15)\n",
    "x2=np.linspace(0,.5,10)\n",
    "def f(x):\n",
    "    return x**2"
   ]
  },
  {
   "cell_type": "code",
   "execution_count": 16,
   "metadata": {
    "collapsed": false
   },
   "outputs": [
    {
     "data": {
      "text/plain": [
       "<matplotlib.text.Text at 0x109cfacc0>"
      ]
     },
     "execution_count": 16,
     "metadata": {},
     "output_type": "execute_result"
    },
    {
     "data": {
      "image/png": "[encoded data removed]",
      "text/plain": [
       "<matplotlib.figure.Figure at 0x109c66a58>"
      ]
     },
     "metadata": {},
     "output_type": "display_data"
    }
   ],
   "source": [
    "fig = plt.figure(figsize=(15, 5))\n",
    "sub1 = fig.add_subplot(121)\n",
    "sub1.plot(x1,f(x1))\n",
    "sub1.step(x1+1,f(x1))\n",
    "plt.xlim(0,5)\n",
    "sub1.set_title('Lefthanded Approximation')\n",
    "sub2 = fig.add_subplot(122)\n",
    "sub2.plot(x1,f(x1))\n",
    "sub2.step(x1,f(x1))\n",
    "sub2.set_title('Righthanded Approximations')"
   ]
  },
  {
   "cell_type": "markdown",
   "metadata": {
    "collapsed": true
   },
   "source": [
    "Another question for min and max values.\n",
    "\n",
    "\n",
    "Jamilla, I think you have to define your function in the same way you've done earlier.  Also, where'd the -2 and 5 come from?"
   ]
  },
  {
   "cell_type": "code",
   "execution_count": 18,
   "metadata": {
    "collapsed": false
   },
   "outputs": [
    {
     "ename": "SyntaxError",
     "evalue": "invalid syntax (<ipython-input-18-a55ae5da29d2>, line 1)",
     "output_type": "error",
     "traceback": [
      "\u001b[0;36m  File \u001b[0;32m\"<ipython-input-18-a55ae5da29d2>\"\u001b[0;36m, line \u001b[0;32m1\u001b[0m\n\u001b[0;31m    f(x)= 2*x**3-3x**2-12*x\u001b[0m\n\u001b[0m                  ^\u001b[0m\n\u001b[0;31mSyntaxError\u001b[0m\u001b[0;31m:\u001b[0m invalid syntax\n"
     ]
    }
   ],
   "source": [
    "f(x)= 2*x**3-3x**2-12*x\n",
    "A = (-2);\n",
    "B =(5);"
   ]
  },
  {
   "cell_type": "code",
   "execution_count": 23,
   "metadata": {
    "collapsed": true
   },
   "outputs": [],
   "source": [
    "%matplotlib inline\n",
    "import matplotlib.pyplot as plt\n",
    "import numpy as np\n",
    "import sympy as sy\n",
    "import pandas as pd"
   ]
  },
  {
   "cell_type": "code",
   "execution_count": 24,
   "metadata": {
    "collapsed": true
   },
   "outputs": [],
   "source": [
    "x = sy.Symbol('x')"
   ]
  },
  {
   "cell_type": "code",
   "execution_count": 25,
   "metadata": {
    "collapsed": true
   },
   "outputs": [],
   "source": [
    "def f(x):\n",
    "    return x**2"
   ]
  },
  {
   "cell_type": "code",
   "execution_count": 10,
   "metadata": {
    "collapsed": false
   },
   "outputs": [],
   "source": [
    "def maxminvalues(f, a, b):\n",
    "    df = sy.diff(f(x))\n",
    "    sl = sy.solve(df)\n",
    "    print(f(s1))"
   ]
  },
  {
   "cell_type": "code",
   "execution_count": 11,
   "metadata": {
    "collapsed": false
   },
   "outputs": [
    {
     "ename": "NameError",
     "evalue": "name 'sy' is not defined",
     "output_type": "error",
     "traceback": [
      "\u001b[0;31m---------------------------------------------------------------------------\u001b[0m",
      "\u001b[0;31mNameError\u001b[0m                                 Traceback (most recent call last)",
      "\u001b[0;32m<ipython-input-11-56f1101e167d>\u001b[0m in \u001b[0;36m<module>\u001b[0;34m()\u001b[0m\n\u001b[0;32m----> 1\u001b[0;31m \u001b[0mmaxminvalues\u001b[0m\u001b[0;34m(\u001b[0m\u001b[0mf\u001b[0m\u001b[0;34m,\u001b[0m\u001b[0;36m0\u001b[0m\u001b[0;34m,\u001b[0m\u001b[0;36m4\u001b[0m\u001b[0;34m)\u001b[0m\u001b[0;34m\u001b[0m\u001b[0m\n\u001b[0m",
      "\u001b[0;32m<ipython-input-10-1e111ff5c0bc>\u001b[0m in \u001b[0;36mmaxminvalues\u001b[0;34m(f, a, b)\u001b[0m\n\u001b[1;32m      1\u001b[0m \u001b[0;32mdef\u001b[0m \u001b[0mmaxminvalues\u001b[0m\u001b[0;34m(\u001b[0m\u001b[0mf\u001b[0m\u001b[0;34m,\u001b[0m \u001b[0ma\u001b[0m\u001b[0;34m,\u001b[0m \u001b[0mb\u001b[0m\u001b[0;34m)\u001b[0m\u001b[0;34m:\u001b[0m\u001b[0;34m\u001b[0m\u001b[0m\n\u001b[0;32m----> 2\u001b[0;31m     \u001b[0mdf\u001b[0m \u001b[0;34m=\u001b[0m \u001b[0msy\u001b[0m\u001b[0;34m.\u001b[0m\u001b[0mdiff\u001b[0m\u001b[0;34m(\u001b[0m\u001b[0mf\u001b[0m\u001b[0;34m(\u001b[0m\u001b[0mx\u001b[0m\u001b[0;34m)\u001b[0m\u001b[0;34m)\u001b[0m\u001b[0;34m\u001b[0m\u001b[0m\n\u001b[0m\u001b[1;32m      3\u001b[0m     \u001b[0msl\u001b[0m \u001b[0;34m=\u001b[0m \u001b[0msy\u001b[0m\u001b[0;34m.\u001b[0m\u001b[0msolve\u001b[0m\u001b[0;34m(\u001b[0m\u001b[0mdf\u001b[0m\u001b[0;34m)\u001b[0m\u001b[0;34m\u001b[0m\u001b[0m\n\u001b[1;32m      4\u001b[0m     \u001b[0mprint\u001b[0m\u001b[0;34m(\u001b[0m\u001b[0mf\u001b[0m\u001b[0;34m(\u001b[0m\u001b[0ms1\u001b[0m\u001b[0;34m)\u001b[0m\u001b[0;34m)\u001b[0m\u001b[0;34m\u001b[0m\u001b[0m\n",
      "\u001b[0;31mNameError\u001b[0m: name 'sy' is not defined"
     ]
    }
   ],
   "source": [
    "maxminvalues(f,0,4)"
   ]
  },
  {
   "cell_type": "code",
   "execution_count": 27,
   "metadata": {
    "collapsed": true
   },
   "outputs": [],
   "source": [
    "#Do I put -2 and 5 in for a and b and the function in for f?"
   ]
  },
  {
   "cell_type": "code",
   "execution_count": null,
   "metadata": {
    "collapsed": true
   },
   "outputs": [],
   "source": [
    "#Am I doing the same thing, put the numbers in? And repeat for minimum?"
   ]
  },
  {
   "cell_type": "code",
   "execution_count": 30,
   "metadata": {
    "collapsed": false
   },
   "outputs": [
    {
     "ename": "IndentationError",
     "evalue": "unindent does not match any outer indentation level (<ipython-input-30-a210c321822e>, line 3)",
     "output_type": "error",
     "traceback": [
      "\u001b[0;36m  File \u001b[0;32m\"<ipython-input-30-a210c321822e>\"\u001b[0;36m, line \u001b[0;32m3\u001b[0m\n\u001b[0;31m    df = sg.diff\u001b[0m\n\u001b[0m                 ^\u001b[0m\n\u001b[0;31mIndentationError\u001b[0m\u001b[0;31m:\u001b[0m unindent does not match any outer indentation level\n"
     ]
    }
   ],
   "source": [
    "def maximum (f,a,b):\n",
    "     x = sy.symbol('x')\n",
    "    df = sg.diff \n",
    "    df = (a)"
   ]
  },
  {
   "cell_type": "code",
   "execution_count": null,
   "metadata": {
    "collapsed": true
   },
   "outputs": [],
   "source": []
  }
 ],
 "metadata": {
  "kernelspec": {
   "display_name": "Python 3",
   "language": "python",
   "name": "python3"
  },
  "language_info": {
   "codemirror_mode": {
    "name": "ipython",
    "version": 3
   },
   "file_extension": ".py",
   "mimetype": "text/x-python",
   "name": "python",
   "nbconvert_exporter": "python",
   "pygments_lexer": "ipython3",
   "version": "3.5.1"
  }
 },
 "nbformat": 4,
 "nbformat_minor": 0
}
