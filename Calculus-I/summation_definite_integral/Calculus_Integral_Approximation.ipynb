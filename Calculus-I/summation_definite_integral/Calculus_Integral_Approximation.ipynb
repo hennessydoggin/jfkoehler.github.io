{
 "cells": [
  {
   "cell_type": "markdown",
   "metadata": {},
   "source": [
    "# Approximating with Rectangles\n",
    "\n",
    "In this notebook, we want to examine our work with approximating rectangles as a way to unlock a general method in area and volume problems.  First we want to recall our ideas of approximating with rectangles, and that to approximate the area under the curve \n",
    "\n",
    "$$y = x^2 \\quad \\text{or} \\quad f(x)=x^2$$\n",
    "\n",
    "\n",
    "with five rectangles between \n",
    "\n",
    "$$x=0 \\quad \\text{to} \\quad x=5$$\n",
    "\n",
    "\n",
    "We will look at this two ways, with rectangles built on the left side of the intervals and rectangles built on the right side."
   ]
  },
  {
   "cell_type": "code",
   "execution_count": 1,
   "metadata": {
    "collapsed": false
   },
   "outputs": [
    {
     "name": "stdout",
     "output_type": "stream",
     "text": [
      "Populating the interactive namespace from numpy and matplotlib\n"
     ]
    }
   ],
   "source": [
    "%pylab inline\n",
    "import numpy as np"
   ]
  },
  {
   "cell_type": "code",
   "execution_count": 2,
   "metadata": {
    "collapsed": true
   },
   "outputs": [],
   "source": [
    "x1=linspace(0,5,100)#x values for graph of f(x)\n",
    "x2=linspace(0,5,6)#x values for graphs the rectangles\n",
    "def f(x):\n",
    "    return x**2"
   ]
  },
  {
   "cell_type": "code",
   "execution_count": 3,
   "metadata": {
    "collapsed": false
   },
   "outputs": [
    {
     "data": {
      "text/plain": [
       "<matplotlib.text.Text at 0x1081895c0>"
      ]
     },
     "execution_count": 3,
     "metadata": {},
     "output_type": "execute_result"
    },
    {
     "data": {
      "image/png": "[encoded data removed]",
      "text/plain": [
       "<matplotlib.figure.Figure at 0x104e8ee10>"
      ]
     },
     "metadata": {},
     "output_type": "display_data"
    }
   ],
   "source": [
    "fig = plt.figure(figsize=(15, 5))\n",
    "sub1 = fig.add_subplot(121)\n",
    "sub1.plot(x1,f(x1))\n",
    "sub1.step(x2+1,f(x2))\n",
    "plt.xlim(0,5)\n",
    "sub1.set_title('Lefthanded Approximation')\n",
    "sub2 = fig.add_subplot(122)\n",
    "sub2.plot(x1,f(x1))\n",
    "sub2.step(x2,f(x2))\n",
    "sub2.set_title('Righthanded Approximations')"
   ]
  },
  {
   "cell_type": "markdown",
   "metadata": {},
   "source": [
    "### Computing the Approximations\n",
    "\n",
    "The Lefthanded approximation has five rectangles, width 1, height starting at the first lefthanded interval $x=0$.\n",
    "\n",
    "$$(1)f(0) + (1)f(1) + (1)f(2) + (1)f(3) + (1)f(4)$$\n",
    "\n",
    "$$(1)(0^2) + (1)(1^2) + (1)(2^2) + (1)(3^2) + (1)(4^2)$$\n",
    "\n",
    "The Righthanded approximation has five rectangles, width 1, height found starting at the first righthanded endpoint of an interval $x=1$.\n",
    "\n",
    "$$(1)f(1) + (1)f(2) + (1)f(3) + (1)f(4) + (1)f(5)$$\n",
    "\n",
    "$$(1)(1^2) + (1)(2^2) + (1)(3^2) + (1)(4^2) + (1)(5^2)$$\n"
   ]
  },
  {
   "cell_type": "code",
   "execution_count": 4,
   "metadata": {
    "collapsed": false
   },
   "outputs": [
    {
     "data": {
      "text/plain": [
       "[0, 1, 4, 9, 16]"
      ]
     },
     "execution_count": 4,
     "metadata": {},
     "output_type": "execute_result"
    }
   ],
   "source": [
    "leftheights = [i**2 for i in range(0,5)]\n",
    "leftheights"
   ]
  },
  {
   "cell_type": "code",
   "execution_count": 5,
   "metadata": {
    "collapsed": false
   },
   "outputs": [
    {
     "data": {
      "text/plain": [
       "[1, 4, 9, 16, 25]"
      ]
     },
     "execution_count": 5,
     "metadata": {},
     "output_type": "execute_result"
    }
   ],
   "source": [
    "rightheights = [i**2 for i in range(1,6)]\n",
    "rightheights"
   ]
  },
  {
   "cell_type": "code",
   "execution_count": 6,
   "metadata": {
    "collapsed": false
   },
   "outputs": [
    {
     "data": {
      "text/plain": [
       "30"
      ]
     },
     "execution_count": 6,
     "metadata": {},
     "output_type": "execute_result"
    }
   ],
   "source": [
    "leftarea=(1)*(leftheights)\n",
    "np.sum(leftarea)"
   ]
  },
  {
   "cell_type": "code",
   "execution_count": 7,
   "metadata": {
    "collapsed": false
   },
   "outputs": [
    {
     "data": {
      "text/plain": [
       "55"
      ]
     },
     "execution_count": 7,
     "metadata": {},
     "output_type": "execute_result"
    }
   ],
   "source": [
    "rightarea=(1)*(rightheights)\n",
    "np.sum(rightarea)"
   ]
  },
  {
   "cell_type": "code",
   "execution_count": 8,
   "metadata": {
    "collapsed": false
   },
   "outputs": [
    {
     "data": {
      "text/plain": [
       "[0.0, 0.25, 1.0, 2.25, 4.0, 6.25, 9.0, 12.25, 16.0, 20.25]"
      ]
     },
     "execution_count": 8,
     "metadata": {},
     "output_type": "execute_result"
    }
   ],
   "source": [
    "leftheights = [(i/2)**2 for i in range(0,10)]\n",
    "leftheights"
   ]
  },
  {
   "cell_type": "code",
   "execution_count": 9,
   "metadata": {
    "collapsed": false
   },
   "outputs": [
    {
     "data": {
      "text/plain": [
       "[0.25, 1.0, 2.25, 4.0, 6.25, 9.0, 12.25, 16.0, 20.25, 25.0]"
      ]
     },
     "execution_count": 9,
     "metadata": {},
     "output_type": "execute_result"
    }
   ],
   "source": [
    "rightheights = [(i/2)**2 for i in range(1,11)]\n",
    "rightheights"
   ]
  },
  {
   "cell_type": "code",
   "execution_count": 10,
   "metadata": {
    "collapsed": false
   },
   "outputs": [
    {
     "data": {
      "text/plain": [
       "35.625"
      ]
     },
     "execution_count": 10,
     "metadata": {},
     "output_type": "execute_result"
    }
   ],
   "source": [
    "leftarea = (1/2)*(np.sum(leftheights))\n",
    "leftarea"
   ]
  },
  {
   "cell_type": "code",
   "execution_count": 11,
   "metadata": {
    "collapsed": false
   },
   "outputs": [
    {
     "data": {
      "text/plain": [
       "48.125"
      ]
     },
     "execution_count": 11,
     "metadata": {},
     "output_type": "execute_result"
    }
   ],
   "source": [
    "rightarea = (1/2)*(np.sum(rightheights))\n",
    "rightarea"
   ]
  },
  {
   "cell_type": "markdown",
   "metadata": {},
   "source": [
    "### User Input\n",
    "\n",
    "We can make a small user input entry to change the assignment of the number of rectangles we are using, the left endpoint of the interval, and right endpoint of the interval.  These values can be stored and used in the approximations.  "
   ]
  },
  {
   "cell_type": "code",
   "execution_count": 12,
   "metadata": {
    "collapsed": false
   },
   "outputs": [
    {
     "name": "stdout",
     "output_type": "stream",
     "text": [
      "How many rectangles would you like to use, 10\n",
      "What's the left endpoint, 0\n",
      "What's the right endpoint, 3\n"
     ]
    }
   ],
   "source": [
    "n = int(input(\"How many rectangles would you like to use, \"))\n",
    "a = int(input(\"What's the left endpoint, \"))\n",
    "b = int(input(\"What's the right endpoint, \"))"
   ]
  },
  {
   "cell_type": "code",
   "execution_count": 13,
   "metadata": {
    "collapsed": false
   },
   "outputs": [
    {
     "name": "stdout",
     "output_type": "stream",
     "text": [
      "Your width is 0.3\n"
     ]
    }
   ],
   "source": [
    "width = (b-a)/float(n)\n",
    "print('Your width is', width)"
   ]
  },
  {
   "cell_type": "markdown",
   "metadata": {},
   "source": [
    "#### Problem\n",
    "\n",
    "Now use the above functions to ask users to input the left and right endpoints, how many rectangles, and will print the value of the area approximation."
   ]
  },
  {
   "cell_type": "code",
   "execution_count": null,
   "metadata": {
    "collapsed": true
   },
   "outputs": [],
   "source": []
  },
  {
   "cell_type": "code",
   "execution_count": null,
   "metadata": {
    "collapsed": true
   },
   "outputs": [],
   "source": []
  },
  {
   "cell_type": "code",
   "execution_count": null,
   "metadata": {
    "collapsed": true
   },
   "outputs": [],
   "source": []
  },
  {
   "cell_type": "code",
   "execution_count": null,
   "metadata": {
    "collapsed": true
   },
   "outputs": [],
   "source": []
  },
  {
   "cell_type": "code",
   "execution_count": null,
   "metadata": {
    "collapsed": true
   },
   "outputs": [],
   "source": []
  },
  {
   "cell_type": "code",
   "execution_count": null,
   "metadata": {
    "collapsed": true
   },
   "outputs": [],
   "source": []
  },
  {
   "cell_type": "markdown",
   "metadata": {},
   "source": [
    "### Adding more Rectangles\n",
    "\n",
    "As we have seen, we improve our approximations by increasing the number of rectangles used in our approximations."
   ]
  },
  {
   "cell_type": "code",
   "execution_count": 14,
   "metadata": {
    "collapsed": true
   },
   "outputs": [],
   "source": [
    "x1=linspace(-10,10,100)\n",
    "x2=linspace(-10,10,30)\n",
    "def f(x):\n",
    "    return -x**2+1"
   ]
  },
  {
   "cell_type": "code",
   "execution_count": 15,
   "metadata": {
    "collapsed": false
   },
   "outputs": [
    {
     "data": {
      "text/plain": [
       "<matplotlib.text.Text at 0x1086ec6d8>"
      ]
     },
     "execution_count": 15,
     "metadata": {},
     "output_type": "execute_result"
    },
    {
     "data": {
      "image/png": "[encoded data removed]",
      "text/plain": [
       "<matplotlib.figure.Figure at 0x1084d84a8>"
      ]
     },
     "metadata": {},
     "output_type": "display_data"
    }
   ],
   "source": [
    "fig = plt.figure(figsize=(15, 5))\n",
    "sub1 = fig.add_subplot(121)\n",
    "sub1.plot(x1,f(x1))\n",
    "sub1.step(x2+2/3,f(x2))\n",
    "sub1.set_title('Righthanded Approximation')\n",
    "sub2 = fig.add_subplot(122)\n",
    "sub2.plot(x2,f(x2))\n",
    "sub2.step(x2,f(x2))\n",
    "sub2.set_title('Lefthanded Approximations')"
   ]
  },
  {
   "cell_type": "markdown",
   "metadata": {},
   "source": [
    "### Improving our Approximations\n",
    "\n",
    "Obviously, as we have seen, the approximations of the areas improve as the number of rectangles increases.  The width of each rectangle on an interval $[a,b]$ is given by\n",
    "\n",
    "$$\\frac{|b-a|}{n}$$ \n",
    "\n",
    "We can make a little program to ask the user to enter all the important information and then calculate the approximation.  First, we need the left endpoint, right endpoint, and the number of rectangles we are going to use."
   ]
  },
  {
   "cell_type": "code",
   "execution_count": 16,
   "metadata": {
    "collapsed": false
   },
   "outputs": [
    {
     "name": "stdout",
     "output_type": "stream",
     "text": [
      "What is the left endpoint 0\n",
      "What is the right endpoint 6\n",
      "How many rectangles do you want to use 10\n",
      "The width of one interval is  0.6\n"
     ]
    }
   ],
   "source": [
    "a = int(input(\"What is the left endpoint \"))\n",
    "b = int(input(\"What is the right endpoint \"))\n",
    "n = int(input(\"How many rectangles do you want to use \"))\n",
    "width = (b-a)/float(n)\n",
    "print('The width of one interval is ', width)"
   ]
  },
  {
   "cell_type": "markdown",
   "metadata": {},
   "source": [
    "### Adding Heights \n",
    "\n",
    "Now we need to figure out how to list the places we want to find the different heights of the rectangles.  Recall that at each width we have to find the height.  If we have $n$ rectangles, we are finding the heights at every $i$ in $n$ for $\\frac{| b-a |}{n}$ or:\n",
    "\n",
    "$$f(a + i * width)$$\n",
    "\n",
    "We just need to add asking for a function to evaluate, and to index a list."
   ]
  },
  {
   "cell_type": "code",
   "execution_count": 17,
   "metadata": {
    "collapsed": true
   },
   "outputs": [],
   "source": [
    "def f(x):\n",
    "    return x**2"
   ]
  },
  {
   "cell_type": "code",
   "execution_count": 22,
   "metadata": {
    "collapsed": false
   },
   "outputs": [
    {
     "name": "stdout",
     "output_type": "stream",
     "text": [
      "What is the left endpoint 0\n",
      "What is the right endpoint 4\n",
      "How many rectangles do you want to use 3000\n",
      "The width of one interval is  0.0013333333333333333\n",
      "The area is approximately  21.3226678519\n"
     ]
    }
   ],
   "source": [
    "\n",
    "a = int(input(\"What is the left endpoint \"))\n",
    "b = int(input(\"What is the right endpoint \"))\n",
    "n = int(input(\"How many rectangles do you want to use \"))\n",
    "width = (b-a)/float(n)\n",
    "print('The width of one interval is ', width)\n",
    "heights = [f(a+i*width) for i in range(n)]\n",
    "#print('The heights are ', heights)\n",
    "area = width * np.sum(heights)\n",
    "print('The area is approximately ', area)\n",
    "\n",
    "\n"
   ]
  },
  {
   "cell_type": "markdown",
   "metadata": {},
   "source": [
    "#### Problem\n",
    "\n",
    "1. Compute the following approximation for $y=x^2$ on `[0,5]`:\n",
    "\n",
    "    a. With 10 rectangles constructed on the right endpoints of the subintervals.\n",
    "    \n",
    "    b. With 15 rectangles constructed on the left endpoints of the subintervals.\n",
    "    \n"
   ]
  },
  {
   "cell_type": "code",
   "execution_count": null,
   "metadata": {
    "collapsed": true
   },
   "outputs": [],
   "source": []
  },
  {
   "cell_type": "code",
   "execution_count": null,
   "metadata": {
    "collapsed": true
   },
   "outputs": [],
   "source": []
  },
  {
   "cell_type": "markdown",
   "metadata": {},
   "source": [
    "#### Trapezoid Approximations\n",
    "\n",
    "There is a trapezoidal approximation function available, or we could easily revise the above algorithm to compute the areas of trapezoids as opposed to that of rectangles.  Copy and paste the code from above.  Alter the code to reflect the area of a trapezoid as opposed to that of the rectangle."
   ]
  },
  {
   "cell_type": "code",
   "execution_count": null,
   "metadata": {
    "collapsed": true
   },
   "outputs": [],
   "source": []
  },
  {
   "cell_type": "markdown",
   "metadata": {},
   "source": [
    "### Moving to the infinite case\n",
    "\n",
    "As we see below, the approximations for our areas improve as we increase the number of rectangles.  As our reading on ibn Al Haytham discussed, the ideal case is to let the number of rectangles approach infinity.  We connected this idea to the later more rigorous formulation of George Bernhard Riemann and his definite integral.\n",
    "\n",
    "$$\\lim_{n \\to \\infty} \\sum_{i=1}^n f(x_i) \\Delta{x}$$\n",
    "\n",
    "In symbols saying we want the number of rectangles to be infinitely large.   We can use the sympy commands here to evaluate these summations as well.  For example the summation to determine the area underneath $y=x^2$ from $x=0$ to $x=5$ is given by:\n",
    "\n",
    "$$\\sum_{i=1}^n (\\frac{5}{n})f(\\frac{5i}{n})$$\n",
    "\n",
    "Which because $f(x)=x^2$: \n",
    "\n",
    "$$\\sum_{i=1}^n (\\frac{5}{n}) (\\frac{5i}{n})^2$$\n",
    "\n",
    "And because our summation is only dealing with things indexed with $i$:\n",
    "\n",
    "$$\\frac{5*25}{n^3} \\sum_{i=1}^n {i^2} = \\frac{5*25}{n^3} ( \\frac{n^3}{3} + \\frac{n^2}{2} + \\frac{n}{6})$$"
   ]
  },
  {
   "cell_type": "code",
   "execution_count": null,
   "metadata": {
    "collapsed": true
   },
   "outputs": [],
   "source": []
  },
  {
   "cell_type": "code",
   "execution_count": null,
   "metadata": {
    "collapsed": true
   },
   "outputs": [],
   "source": []
  },
  {
   "cell_type": "code",
   "execution_count": null,
   "metadata": {
    "collapsed": true
   },
   "outputs": [],
   "source": []
  },
  {
   "cell_type": "markdown",
   "metadata": {},
   "source": [
    "### The Definite Integral\n",
    "\n",
    "Now we have arrived at the definition of the definite integral.  Python's libraries have commands that allow us to carry out definite integrals on set boundaries quickly and easily.  Recall that we defined the definite integral with the notation:\n",
    "\n",
    "$$\\int_a^b f(x) dx = \\lim_{n \\to \\infty} \\sum_{i=1}^n f(x_i) \\Delta{x}$$\n",
    "\n",
    "In python, we use the `scipy.integrate` command. New here is using the lambda on the x, as well as that the output includes an approximation of the integral and an error term.  "
   ]
  },
  {
   "cell_type": "code",
   "execution_count": 19,
   "metadata": {
    "collapsed": false
   },
   "outputs": [
    {
     "data": {
      "text/plain": [
       "(21.333333333333336, 2.368475785867001e-13)"
      ]
     },
     "execution_count": 19,
     "metadata": {},
     "output_type": "execute_result"
    }
   ],
   "source": [
    "from scipy import integrate\n",
    "x2 = lambda x: x**2\n",
    "integrate.quad(x2, 0, 4)\n"
   ]
  },
  {
   "cell_type": "code",
   "execution_count": 20,
   "metadata": {
    "collapsed": false
   },
   "outputs": [
    {
     "data": {
      "text/plain": [
       "(1.3333333333333335, 1.4802973661668755e-14)"
      ]
     },
     "execution_count": 20,
     "metadata": {},
     "output_type": "execute_result"
    }
   ],
   "source": [
    "x3 = lambda x: 1-x**2\n",
    "integrate.quad(x3, -1,1)"
   ]
  },
  {
   "cell_type": "code",
   "execution_count": 21,
   "metadata": {
    "collapsed": false
   },
   "outputs": [
    {
     "data": {
      "text/plain": [
       "(6.283185307179586, 6.975736996017264e-14)"
      ]
     },
     "execution_count": 21,
     "metadata": {},
     "output_type": "execute_result"
    }
   ],
   "source": [
    "paraboloid = lambda y: np.pi * (np.sqrt(1-y))**2\n",
    "integrate.quad(paraboloid, -1, 1)"
   ]
  },
  {
   "cell_type": "code",
   "execution_count": null,
   "metadata": {
    "collapsed": true
   },
   "outputs": [],
   "source": []
  },
  {
   "cell_type": "code",
   "execution_count": null,
   "metadata": {
    "collapsed": true
   },
   "outputs": [],
   "source": []
  },
  {
   "cell_type": "code",
   "execution_count": null,
   "metadata": {
    "collapsed": true
   },
   "outputs": [],
   "source": []
  },
  {
   "cell_type": "code",
   "execution_count": null,
   "metadata": {
    "collapsed": true
   },
   "outputs": [],
   "source": []
  },
  {
   "cell_type": "code",
   "execution_count": null,
   "metadata": {
    "collapsed": true
   },
   "outputs": [],
   "source": []
  },
  {
   "cell_type": "code",
   "execution_count": null,
   "metadata": {
    "collapsed": true
   },
   "outputs": [],
   "source": []
  }
 ],
 "metadata": {
  "kernelspec": {
   "display_name": "Python 3",
   "language": "python",
   "name": "python3"
  },
  "language_info": {
   "codemirror_mode": {
    "name": "ipython",
    "version": 3
   },
   "file_extension": ".py",
   "mimetype": "text/x-python",
   "name": "python",
   "nbconvert_exporter": "python",
   "pygments_lexer": "ipython3",
   "version": "3.5.1"
  }
 },
 "nbformat": 4,
 "nbformat_minor": 0
}
