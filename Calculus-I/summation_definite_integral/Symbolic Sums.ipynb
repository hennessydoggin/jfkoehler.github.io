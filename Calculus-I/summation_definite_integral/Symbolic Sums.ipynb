{
 "cells": [
  {
   "cell_type": "markdown",
   "metadata": {},
   "source": [
    "## More Summations and Al-Haytham's Paraboloid\n",
    "\n",
    "In this notebook we will use the symbolic computing power of the **sympy** package to evaluate summations and the calculate the volume of a paraboloid following ibn Al-Haytham's method.  Again, we will see the power of pre-Rennaisance algorithmic thinking and its connection to modern day computation in iPython.  \n",
    "\n",
    "First we will examine some basic functionality of the **sympy** package.  Next, we will look at how to use **sympy** to evaluate summations that we've examined in class as well as some more complicated summations.  Finally, we will see how to use these to evaluate the volume of a Paraboloid following Al-Haytham's example."
   ]
  },
  {
   "cell_type": "code",
   "execution_count": 1,
   "metadata": {
    "collapsed": true
   },
   "outputs": [],
   "source": [
    "from sympy import *"
   ]
  },
  {
   "cell_type": "code",
   "execution_count": null,
   "metadata": {
    "collapsed": true
   },
   "outputs": [],
   "source": [
    "x = Symbol"
   ]
  }
 ],
 "metadata": {
  "kernelspec": {
   "display_name": "Python 3",
   "language": "python",
   "name": "python3"
  },
  "language_info": {
   "codemirror_mode": {
    "name": "ipython",
    "version": 3
   },
   "file_extension": ".py",
   "mimetype": "text/x-python",
   "name": "python",
   "nbconvert_exporter": "python",
   "pygments_lexer": "ipython3",
   "version": "3.5.1"
  }
 },
 "nbformat": 4,
 "nbformat_minor": 0
}
