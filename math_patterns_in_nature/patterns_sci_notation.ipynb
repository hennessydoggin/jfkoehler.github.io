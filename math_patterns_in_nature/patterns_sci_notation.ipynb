{
 "cells": [
  {
   "cell_type": "markdown",
   "metadata": {},
   "source": [
    "## Scientific Notation and Large Numbers\n",
    "\n",
    "Below we first examine the results of the computations on the calculator for problems 5 - 7:\n",
    "\n",
    "5. $(6.023 \\times 10^{23}) * (14 \\times 10^{-6})$\n",
    "\n",
    "\n",
    "6. $\\frac{48.967 \\times 10^6}{4.75 \\times 10^{-3}}$\n",
    "\n",
    "\n",
    "7. $\\frac{4.271 \\times 10^{-11}}{5.39 \\times 10^{12}}$"
   ]
  },
  {
   "cell_type": "code",
   "execution_count": 1,
   "metadata": {
    "collapsed": false
   },
   "outputs": [
    {
     "data": {
      "text/plain": [
       "8.432199999999999e+18"
      ]
     },
     "execution_count": 1,
     "metadata": {},
     "output_type": "execute_result"
    }
   ],
   "source": [
    "6.023 * 10**(23)*14*10**(-6)"
   ]
  },
  {
   "cell_type": "code",
   "execution_count": 4,
   "metadata": {
    "collapsed": false
   },
   "outputs": [
    {
     "data": {
      "text/plain": [
       "10308842105.263159"
      ]
     },
     "execution_count": 4,
     "metadata": {},
     "output_type": "execute_result"
    }
   ],
   "source": [
    "(48.967*10**6)/(4.75 * 10**(-3))"
   ]
  },
  {
   "cell_type": "code",
   "execution_count": 5,
   "metadata": {
    "collapsed": false
   },
   "outputs": [
    {
     "data": {
      "text/plain": [
       "7.923933209647494e-24"
      ]
     },
     "execution_count": 5,
     "metadata": {},
     "output_type": "execute_result"
    }
   ],
   "source": [
    "(4.271 * 10**(-11))/(5.39 * 10**(12))"
   ]
  },
  {
   "cell_type": "markdown",
   "metadata": {},
   "source": [
    "### Checking Our Answers\n",
    "\n",
    "We can check to see if how we interpret our answers are correct by actually multiplying the numbers out.  Suppose my answers are:\n",
    "\n",
    "1. $8.43219... \\times 10^{18}$\n",
    "\n",
    "\n",
    "2. $1.0308... \\times 10^{10}$\n",
    "\n",
    "\n",
    "3. $7.9239... \\times 10^{-24}$\n",
    "\n",
    "\n",
    "I can multiply these on the calculator and compare what I get to the above answers.\n"
   ]
  },
  {
   "cell_type": "code",
   "execution_count": 9,
   "metadata": {
    "collapsed": false
   },
   "outputs": [
    {
     "data": {
      "text/plain": [
       "8.432199999999998e+18"
      ]
     },
     "execution_count": 9,
     "metadata": {},
     "output_type": "execute_result"
    }
   ],
   "source": [
    "8.432199999999999 * 10**(18)"
   ]
  },
  {
   "cell_type": "code",
   "execution_count": 10,
   "metadata": {
    "collapsed": false
   },
   "outputs": [
    {
     "data": {
      "text/plain": [
       "10308842105.263159"
      ]
     },
     "execution_count": 10,
     "metadata": {},
     "output_type": "execute_result"
    }
   ],
   "source": [
    "1.0308842105263159*10**(10)"
   ]
  },
  {
   "cell_type": "code",
   "execution_count": 11,
   "metadata": {
    "collapsed": false
   },
   "outputs": [
    {
     "data": {
      "text/plain": [
       "7.923933209647494e-24"
      ]
     },
     "execution_count": 11,
     "metadata": {},
     "output_type": "execute_result"
    }
   ],
   "source": [
    "7.923933209647494*10**(-24)"
   ]
  },
  {
   "cell_type": "markdown",
   "metadata": {},
   "source": [
    "Everything seems to have worked out.  Now we will look at how to check by hand.  First, remember our discussion about exponents.  We are going to use the fact that for any like base, we multiply these numbers by adding the exponents, i.e.:\n",
    "\n",
    "$$a^b * a^c = a^{b+c}$$\n",
    "\n",
    "For example, we have two exponents with like bases in \\#5 with $10^{23}$ and $10^{-6}$.  To multiply these two numbers, we add the exponents $23 + (-6) = 17$ and the result is $10^{17}$.\n",
    "\n",
    "From start to finish, we could evaluate this problem by hand as follows.  We apply the laws of multiplication about being able to reorder numbers, break this into two parts; a multiplication problem that we solve with our rules of exponents and a familiar decimal multiplication problem as follows:\n",
    "\n",
    "* Rearrange the terms based on the fact that order doesn't matter when we're multiplying many numbers: \n",
    "\n",
    "$$(6.023 \\times 10^{23}) * (14 \\times 10^{-6}) = (6.023 \\times 14)*(10^{23} \\times 10^{-6})$$\n",
    "\n",
    "\n",
    "* Apply our laws of exponents to the base ten terms: \n",
    "\n",
    "$$10^{23} \\times 10^{-6} = 10^{17}$$\n",
    "\n",
    "* Multiply the other pair of numbers:\n",
    "\n",
    "$$(6.023 \\times 14) = 84.32$$\n",
    "\n",
    "* Put things back together:\n",
    "\n",
    "$$84.322 \\times 10^{17}$$\n",
    "\n",
    "* Write in scientific notation (remember our leading number should be between 1 and 10):\n",
    "\n",
    "$$8.4322 \\times 10^{18}$$\n",
    "\n",
    "---\n",
    "\n",
    "The alteration with the division problems is that we will break the situation into two division problems, and apply the law of exponents for division:\n",
    "\n",
    "$$ \\frac{a^b}{a^c} = a^{b-c}$$"
   ]
  },
  {
   "cell_type": "code",
   "execution_count": null,
   "metadata": {
    "collapsed": true
   },
   "outputs": [],
   "source": []
  }
 ],
 "metadata": {
  "kernelspec": {
   "display_name": "Python 3",
   "language": "python",
   "name": "python3"
  },
  "language_info": {
   "codemirror_mode": {
    "name": "ipython",
    "version": 3
   },
   "file_extension": ".py",
   "mimetype": "text/x-python",
   "name": "python",
   "nbconvert_exporter": "python",
   "pygments_lexer": "ipython3",
   "version": "3.5.1"
  }
 },
 "nbformat": 4,
 "nbformat_minor": 0
}
