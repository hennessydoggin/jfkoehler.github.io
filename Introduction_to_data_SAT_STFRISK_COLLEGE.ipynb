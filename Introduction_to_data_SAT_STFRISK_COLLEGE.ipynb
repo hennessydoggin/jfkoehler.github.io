{
 "cells": [
  {
   "cell_type": "markdown",
   "metadata": {},
   "source": [
    "# Introduction to Data Analysis in iPython\n",
    "---\n",
    "\n",
    "In this brief introduction to the iPython notebook, we will examine some data from the College Board.  In this notebook, we will demonstrate the following:\n",
    "\n",
    "**Loading Data** Load a csv file from your computer. Two examples are shown from the College Board and New York City pertaining to colleges and SAT scores.\n",
    "\n",
    "**Clean Data**  Locate any missing data or anomalies.\n",
    "\n",
    "**Analysis**  Examine the max and min functions to sort data, find the sum and average values of columns, and examine summary descriptions from specific columns.\n",
    "\n",
    "**Visualization** Through graphical representation we will provide an opportunity to summarize and compare data.\n",
    "\n",
    "The idea is that you pursue other data sets and choose analyses of your own using these and further tools to investigate information about college readiness or any other data that you might be interested in. The Data Sets were obtained from the websites below:\n",
    "\n",
    ">*College Scorecard Data*:\n",
    "\n",
    ">https://catalog.data.gov/dataset/college-scorecard\n",
    "\n",
    ">*NYC SAT Data*:\n",
    "\n",
    ">https://data.cityofnewyork.us/Education/SAT-Results/f9bf-2cp4\n",
    "\n",
    ">*New York City Stop, Question, and Frisk Data*:\n",
    "\n",
    ">http://www.nyc.gov/html/nypd/html/analysis_and_planning/stop_question_and_frisk_report.shtml"
   ]
  },
  {
   "cell_type": "code",
   "execution_count": 2,
   "metadata": {
    "collapsed": false
   },
   "outputs": [],
   "source": [
    "import pandas as pd \n",
    "import numpy as np\n",
    "import seaborn\n",
    "import matplotlib.pyplot as plt\n",
    "%matplotlib inline "
   ]
  },
  {
   "cell_type": "markdown",
   "metadata": {},
   "source": [
    "#### Reading the Data \n",
    "\n",
    "First, we read a file from our computer into the notebook to create something like a spreadsheet in the form of what is called a dataframe.  I name the dataframe containing the College Scorecard data ```df```.  \n",
    "\n",
    "The ``` \n",
    "pd.read_csv``` means read a csv file from my computer.  \n",
    "\n",
    "The parenthesis should contain the path to the file from the internet or your computer ```('file path or url')```. "
   ]
  },
  {
   "cell_type": "code",
   "execution_count": 3,
   "metadata": {
    "collapsed": false
   },
   "outputs": [
    {
     "name": "stderr",
     "output_type": "stream",
     "text": [
      "/Users/NYCMath/anaconda/lib/python3.5/site-packages/IPython/core/interactiveshell.py:2723: DtypeWarning: Columns (7,9,1427,1542,1561,1575,1725,1726,1727,1728) have mixed types. Specify dtype option on import or set low_memory=False.\n",
      "  interactivity=interactivity, compiler=compiler, result=result)\n"
     ]
    }
   ],
   "source": [
    "df = pd.read_csv('/Users/NYCMath/Downloads/CollegeScorecard_Raw_Data/MERGED2013_PP.csv')"
   ]
  },
  {
   "cell_type": "markdown",
   "metadata": {},
   "source": [
    "We can look at the top of the table using the ```df.head()``` command"
   ]
  },
  {
   "cell_type": "code",
   "execution_count": 4,
   "metadata": {
    "collapsed": false
   },
   "outputs": [
    {
     "data": {
      "text/html": [
       "<div>\n",
       "<table border=\"1\" class=\"dataframe\">\n",
       "  <thead>\n",
       "    <tr style=\"text-align: right;\">\n",
       "      <th></th>\n",
       "      <th>﻿UNITID</th>\n",
       "      <th>OPEID</th>\n",
       "      <th>opeid6</th>\n",
       "      <th>INSTNM</th>\n",
       "      <th>CITY</th>\n",
       "      <th>STABBR</th>\n",
       "      <th>ZIP</th>\n",
       "      <th>AccredAgency</th>\n",
       "      <th>INSTURL</th>\n",
       "      <th>NPCURL</th>\n",
       "      <th>...</th>\n",
       "      <th>PELL_RPY_3YR_RT_SUPP</th>\n",
       "      <th>NOPELL_RPY_3YR_RT_SUPP</th>\n",
       "      <th>FEMALE_RPY_3YR_RT_SUPP</th>\n",
       "      <th>MALE_RPY_3YR_RT_SUPP</th>\n",
       "      <th>FIRSTGEN_RPY_3YR_RT_SUPP</th>\n",
       "      <th>NOTFIRSTGEN_RPY_3YR_RT_SUPP</th>\n",
       "      <th>C150_L4_POOLED_SUPP</th>\n",
       "      <th>C150_4_POOLED_SUPP</th>\n",
       "      <th>C200_L4_POOLED_SUPP</th>\n",
       "      <th>C200_4_POOLED_SUPP</th>\n",
       "    </tr>\n",
       "  </thead>\n",
       "  <tbody>\n",
       "    <tr>\n",
       "      <th>0</th>\n",
       "      <td>100654</td>\n",
       "      <td>100200</td>\n",
       "      <td>1002</td>\n",
       "      <td>Alabama A &amp; M University</td>\n",
       "      <td>Normal</td>\n",
       "      <td>AL</td>\n",
       "      <td>35762</td>\n",
       "      <td>Southern Association of Colleges and Schools C...</td>\n",
       "      <td>www.aamu.edu/</td>\n",
       "      <td>galileo.aamu.edu/netpricecalculator/npcalc.htm</td>\n",
       "      <td>...</td>\n",
       "      <td>0.443586698337</td>\n",
       "      <td>0.45251396648</td>\n",
       "      <td>0.484818805093</td>\n",
       "      <td>0.406</td>\n",
       "      <td>0.423580786026</td>\n",
       "      <td>0.442452830189</td>\n",
       "      <td>NaN</td>\n",
       "      <td>0.30871831265508</td>\n",
       "      <td>NaN</td>\n",
       "      <td>0.35168556430446</td>\n",
       "    </tr>\n",
       "    <tr>\n",
       "      <th>1</th>\n",
       "      <td>100663</td>\n",
       "      <td>105200</td>\n",
       "      <td>1052</td>\n",
       "      <td>University of Alabama at Birmingham</td>\n",
       "      <td>Birmingham</td>\n",
       "      <td>AL</td>\n",
       "      <td>35294-0110</td>\n",
       "      <td>Southern Association of Colleges and Schools C...</td>\n",
       "      <td>www.uab.edu</td>\n",
       "      <td>www.collegeportraits.org/AL/UAB/estimator/agree</td>\n",
       "      <td>...</td>\n",
       "      <td>0.732297852901</td>\n",
       "      <td>0.795454545455</td>\n",
       "      <td>0.760521885522</td>\n",
       "      <td>0.755344418052</td>\n",
       "      <td>0.751552795031</td>\n",
       "      <td>0.765074770863</td>\n",
       "      <td>NaN</td>\n",
       "      <td>0.50854980789381</td>\n",
       "      <td>NaN</td>\n",
       "      <td>0.4730923834537</td>\n",
       "    </tr>\n",
       "    <tr>\n",
       "      <th>2</th>\n",
       "      <td>100690</td>\n",
       "      <td>2503400</td>\n",
       "      <td>25034</td>\n",
       "      <td>Amridge University</td>\n",
       "      <td>Montgomery</td>\n",
       "      <td>AL</td>\n",
       "      <td>36117-3553</td>\n",
       "      <td>Southern Association of Colleges and Schools C...</td>\n",
       "      <td>www.amridgeuniversity.edu</td>\n",
       "      <td>tcc.noellevitz.com/(S(miwoihs5stz5cpyifh4nczu0...</td>\n",
       "      <td>...</td>\n",
       "      <td>0.600877192982</td>\n",
       "      <td>0.775</td>\n",
       "      <td>0.610465116279</td>\n",
       "      <td>0.686567164179</td>\n",
       "      <td>0.632653061224</td>\n",
       "      <td>0.65</td>\n",
       "      <td>NaN</td>\n",
       "      <td>PrivacySuppressed</td>\n",
       "      <td>NaN</td>\n",
       "      <td>PrivacySuppressed</td>\n",
       "    </tr>\n",
       "    <tr>\n",
       "      <th>3</th>\n",
       "      <td>100706</td>\n",
       "      <td>105500</td>\n",
       "      <td>1055</td>\n",
       "      <td>University of Alabama in Huntsville</td>\n",
       "      <td>Huntsville</td>\n",
       "      <td>AL</td>\n",
       "      <td>35899</td>\n",
       "      <td>Southern Association of Colleges and Schools C...</td>\n",
       "      <td>www.uah.edu</td>\n",
       "      <td>finaid.uah.edu/</td>\n",
       "      <td>...</td>\n",
       "      <td>0.738341968912</td>\n",
       "      <td>0.85140562249</td>\n",
       "      <td>0.768378650554</td>\n",
       "      <td>0.798440979955</td>\n",
       "      <td>0.778156996587</td>\n",
       "      <td>0.791666666667</td>\n",
       "      <td>NaN</td>\n",
       "      <td>0.47821134615384</td>\n",
       "      <td>NaN</td>\n",
       "      <td>0.49412939796716</td>\n",
       "    </tr>\n",
       "    <tr>\n",
       "      <th>4</th>\n",
       "      <td>100724</td>\n",
       "      <td>100500</td>\n",
       "      <td>1005</td>\n",
       "      <td>Alabama State University</td>\n",
       "      <td>Montgomery</td>\n",
       "      <td>AL</td>\n",
       "      <td>36104-0271</td>\n",
       "      <td>Southern Association of Colleges and Schools C...</td>\n",
       "      <td>www.alasu.edu/email/index.aspx</td>\n",
       "      <td>www.alasu.edu/cost-aid/forms/calculator/index....</td>\n",
       "      <td>...</td>\n",
       "      <td>0.320016820858</td>\n",
       "      <td>0.380829015544</td>\n",
       "      <td>0.364423717522</td>\n",
       "      <td>0.286530612245</td>\n",
       "      <td>0.315737051793</td>\n",
       "      <td>0.334633385335</td>\n",
       "      <td>NaN</td>\n",
       "      <td>0.25748195545488</td>\n",
       "      <td>NaN</td>\n",
       "      <td>0.29365162671232</td>\n",
       "    </tr>\n",
       "  </tbody>\n",
       "</table>\n",
       "<p>5 rows × 1729 columns</p>\n",
       "</div>"
      ],
      "text/plain": [
       "   ﻿UNITID    OPEID  opeid6                               INSTNM        CITY  \\\n",
       "0   100654   100200    1002             Alabama A & M University      Normal   \n",
       "1   100663   105200    1052  University of Alabama at Birmingham  Birmingham   \n",
       "2   100690  2503400   25034                   Amridge University  Montgomery   \n",
       "3   100706   105500    1055  University of Alabama in Huntsville  Huntsville   \n",
       "4   100724   100500    1005             Alabama State University  Montgomery   \n",
       "\n",
       "  STABBR         ZIP                                       AccredAgency  \\\n",
       "0     AL       35762  Southern Association of Colleges and Schools C...   \n",
       "1     AL  35294-0110  Southern Association of Colleges and Schools C...   \n",
       "2     AL  36117-3553  Southern Association of Colleges and Schools C...   \n",
       "3     AL       35899  Southern Association of Colleges and Schools C...   \n",
       "4     AL  36104-0271  Southern Association of Colleges and Schools C...   \n",
       "\n",
       "                          INSTURL  \\\n",
       "0                   www.aamu.edu/   \n",
       "1                     www.uab.edu   \n",
       "2       www.amridgeuniversity.edu   \n",
       "3                     www.uah.edu   \n",
       "4  www.alasu.edu/email/index.aspx   \n",
       "\n",
       "                                              NPCURL         ...          \\\n",
       "0     galileo.aamu.edu/netpricecalculator/npcalc.htm         ...           \n",
       "1    www.collegeportraits.org/AL/UAB/estimator/agree         ...           \n",
       "2  tcc.noellevitz.com/(S(miwoihs5stz5cpyifh4nczu0...         ...           \n",
       "3                                    finaid.uah.edu/         ...           \n",
       "4  www.alasu.edu/cost-aid/forms/calculator/index....         ...           \n",
       "\n",
       "   PELL_RPY_3YR_RT_SUPP  NOPELL_RPY_3YR_RT_SUPP  FEMALE_RPY_3YR_RT_SUPP  \\\n",
       "0        0.443586698337           0.45251396648          0.484818805093   \n",
       "1        0.732297852901          0.795454545455          0.760521885522   \n",
       "2        0.600877192982                   0.775          0.610465116279   \n",
       "3        0.738341968912           0.85140562249          0.768378650554   \n",
       "4        0.320016820858          0.380829015544          0.364423717522   \n",
       "\n",
       "   MALE_RPY_3YR_RT_SUPP  FIRSTGEN_RPY_3YR_RT_SUPP  \\\n",
       "0                 0.406            0.423580786026   \n",
       "1        0.755344418052            0.751552795031   \n",
       "2        0.686567164179            0.632653061224   \n",
       "3        0.798440979955            0.778156996587   \n",
       "4        0.286530612245            0.315737051793   \n",
       "\n",
       "   NOTFIRSTGEN_RPY_3YR_RT_SUPP  C150_L4_POOLED_SUPP  C150_4_POOLED_SUPP  \\\n",
       "0               0.442452830189                  NaN    0.30871831265508   \n",
       "1               0.765074770863                  NaN    0.50854980789381   \n",
       "2                         0.65                  NaN   PrivacySuppressed   \n",
       "3               0.791666666667                  NaN    0.47821134615384   \n",
       "4               0.334633385335                  NaN    0.25748195545488   \n",
       "\n",
       "   C200_L4_POOLED_SUPP  C200_4_POOLED_SUPP  \n",
       "0                  NaN    0.35168556430446  \n",
       "1                  NaN     0.4730923834537  \n",
       "2                  NaN   PrivacySuppressed  \n",
       "3                  NaN    0.49412939796716  \n",
       "4                  NaN    0.29365162671232  \n",
       "\n",
       "[5 rows x 1729 columns]"
      ]
     },
     "execution_count": 4,
     "metadata": {},
     "output_type": "execute_result"
    }
   ],
   "source": [
    "df.head()"
   ]
  },
  {
   "cell_type": "markdown",
   "metadata": {},
   "source": [
    "In the dataframe object we've created, we have a variety of different kinds of data.  For example, the name of the University is a different kind of thing than the average SAT scores.  We can find this for each column or individual columns."
   ]
  },
  {
   "cell_type": "code",
   "execution_count": 5,
   "metadata": {
    "collapsed": false
   },
   "outputs": [
    {
     "data": {
      "text/plain": [
       "﻿UNITID                          int64\n",
       "OPEID                            int64\n",
       "opeid6                           int64\n",
       "INSTNM                          object\n",
       "CITY                            object\n",
       "STABBR                          object\n",
       "ZIP                             object\n",
       "AccredAgency                    object\n",
       "INSTURL                         object\n",
       "NPCURL                          object\n",
       "sch_deg                        float64\n",
       "HCM2                             int64\n",
       "main                             int64\n",
       "NUMBRANCH                        int64\n",
       "PREDDEG                          int64\n",
       "HIGHDEG                          int64\n",
       "CONTROL                          int64\n",
       "st_fips                          int64\n",
       "region                           int64\n",
       "LOCALE                         float64\n",
       "locale2                        float64\n",
       "LATITUDE                       float64\n",
       "LONGITUDE                      float64\n",
       "CCBASIC                        float64\n",
       "CCUGPROF                       float64\n",
       "CCSIZSET                       float64\n",
       "HBCU                           float64\n",
       "PBI                            float64\n",
       "ANNHI                          float64\n",
       "TRIBAL                         float64\n",
       "                                ...   \n",
       "pct75_earn_wne_p8              float64\n",
       "pct90_earn_wne_p8              float64\n",
       "sd_earn_wne_p8                 float64\n",
       "gt_25k_p8                      float64\n",
       "count_nwne_p9                  float64\n",
       "count_wne_p9                   float64\n",
       "mn_earn_wne_p9                 float64\n",
       "sd_earn_wne_p9                 float64\n",
       "gt_25k_p9                      float64\n",
       "DEBT_MDN_SUPP                   object\n",
       "GRAD_DEBT_MDN_SUPP              object\n",
       "GRAD_DEBT_MDN10YR_SUPP          object\n",
       "RPY_3YR_RT_SUPP                 object\n",
       "LO_INC_RPY_3YR_RT_SUPP          object\n",
       "MD_INC_RPY_3YR_RT_SUPP          object\n",
       "HI_INC_RPY_3YR_RT_SUPP          object\n",
       "COMPL_RPY_3YR_RT_SUPP           object\n",
       "NONCOM_RPY_3YR_RT_SUPP          object\n",
       "DEP_RPY_3YR_RT_SUPP             object\n",
       "IND_RPY_3YR_RT_SUPP             object\n",
       "PELL_RPY_3YR_RT_SUPP            object\n",
       "NOPELL_RPY_3YR_RT_SUPP          object\n",
       "FEMALE_RPY_3YR_RT_SUPP          object\n",
       "MALE_RPY_3YR_RT_SUPP            object\n",
       "FIRSTGEN_RPY_3YR_RT_SUPP        object\n",
       "NOTFIRSTGEN_RPY_3YR_RT_SUPP     object\n",
       "C150_L4_POOLED_SUPP             object\n",
       "C150_4_POOLED_SUPP              object\n",
       "C200_L4_POOLED_SUPP             object\n",
       "C200_4_POOLED_SUPP              object\n",
       "dtype: object"
      ]
     },
     "execution_count": 5,
     "metadata": {},
     "output_type": "execute_result"
    }
   ],
   "source": [
    "df.dtypes"
   ]
  },
  {
   "cell_type": "markdown",
   "metadata": {},
   "source": [
    "Or for an individual column."
   ]
  },
  {
   "cell_type": "code",
   "execution_count": 6,
   "metadata": {
    "collapsed": false
   },
   "outputs": [
    {
     "data": {
      "text/plain": [
       "dtype('O')"
      ]
     },
     "execution_count": 6,
     "metadata": {},
     "output_type": "execute_result"
    }
   ],
   "source": [
    "df.CITY.dtype"
   ]
  },
  {
   "cell_type": "markdown",
   "metadata": {},
   "source": [
    "##### NYC SAT Scores\n",
    "\n",
    "I can create a different dataframe object from the New York City data on SAT scores, and name it ```df2```."
   ]
  },
  {
   "cell_type": "code",
   "execution_count": 11,
   "metadata": {
    "collapsed": true
   },
   "outputs": [],
   "source": [
    "df2 = pd.read_csv('/Users/NYCMath/Downloads/SAT_Results.csv')"
   ]
  },
  {
   "cell_type": "code",
   "execution_count": 12,
   "metadata": {
    "collapsed": false
   },
   "outputs": [
    {
     "data": {
      "text/html": [
       "<div>\n",
       "<table border=\"1\" class=\"dataframe\">\n",
       "  <thead>\n",
       "    <tr style=\"text-align: right;\">\n",
       "      <th></th>\n",
       "      <th>DBN</th>\n",
       "      <th>SCHOOL NAME</th>\n",
       "      <th>Num of SAT Test Takers</th>\n",
       "      <th>SAT Critical Reading Avg. Score</th>\n",
       "      <th>SAT Math Avg. Score</th>\n",
       "      <th>SAT Writing Avg. Score</th>\n",
       "    </tr>\n",
       "  </thead>\n",
       "  <tbody>\n",
       "    <tr>\n",
       "      <th>0</th>\n",
       "      <td>01M292</td>\n",
       "      <td>HENRY STREET SCHOOL FOR INTERNATIONAL STUDIES</td>\n",
       "      <td>29</td>\n",
       "      <td>355</td>\n",
       "      <td>404</td>\n",
       "      <td>363</td>\n",
       "    </tr>\n",
       "    <tr>\n",
       "      <th>1</th>\n",
       "      <td>01M448</td>\n",
       "      <td>UNIVERSITY NEIGHBORHOOD HIGH SCHOOL</td>\n",
       "      <td>91</td>\n",
       "      <td>383</td>\n",
       "      <td>423</td>\n",
       "      <td>366</td>\n",
       "    </tr>\n",
       "    <tr>\n",
       "      <th>2</th>\n",
       "      <td>01M450</td>\n",
       "      <td>EAST SIDE COMMUNITY SCHOOL</td>\n",
       "      <td>70</td>\n",
       "      <td>377</td>\n",
       "      <td>402</td>\n",
       "      <td>370</td>\n",
       "    </tr>\n",
       "  </tbody>\n",
       "</table>\n",
       "</div>"
      ],
      "text/plain": [
       "      DBN                                    SCHOOL NAME  \\\n",
       "0  01M292  HENRY STREET SCHOOL FOR INTERNATIONAL STUDIES   \n",
       "1  01M448            UNIVERSITY NEIGHBORHOOD HIGH SCHOOL   \n",
       "2  01M450                     EAST SIDE COMMUNITY SCHOOL   \n",
       "\n",
       "  Num of SAT Test Takers SAT Critical Reading Avg. Score SAT Math Avg. Score  \\\n",
       "0                     29                             355                 404   \n",
       "1                     91                             383                 423   \n",
       "2                     70                             377                 402   \n",
       "\n",
       "  SAT Writing Avg. Score  \n",
       "0                    363  \n",
       "1                    366  \n",
       "2                    370  "
      ]
     },
     "execution_count": 12,
     "metadata": {},
     "output_type": "execute_result"
    }
   ],
   "source": [
    "df2.head(3)"
   ]
  },
  {
   "cell_type": "markdown",
   "metadata": {},
   "source": [
    "##### NYC Stop, Question, and Frisk Data"
   ]
  },
  {
   "cell_type": "code",
   "execution_count": 13,
   "metadata": {
    "collapsed": false
   },
   "outputs": [],
   "source": [
    "df3 = pd.read_csv('/Users/NYCMath/Downloads/2015_sqf_csv.csv')"
   ]
  },
  {
   "cell_type": "code",
   "execution_count": 14,
   "metadata": {
    "collapsed": false
   },
   "outputs": [
    {
     "data": {
      "text/html": [
       "<div>\n",
       "<table border=\"1\" class=\"dataframe\">\n",
       "  <thead>\n",
       "    <tr style=\"text-align: right;\">\n",
       "      <th></th>\n",
       "      <th>year</th>\n",
       "      <th>pct</th>\n",
       "      <th>ser_num</th>\n",
       "      <th>datestop</th>\n",
       "      <th>timestop</th>\n",
       "      <th>recstat</th>\n",
       "      <th>inout</th>\n",
       "      <th>trhsloc</th>\n",
       "      <th>perobs</th>\n",
       "      <th>crimsusp</th>\n",
       "      <th>...</th>\n",
       "      <th>zip</th>\n",
       "      <th>addrpct</th>\n",
       "      <th>sector</th>\n",
       "      <th>beat</th>\n",
       "      <th>post</th>\n",
       "      <th>xcoord</th>\n",
       "      <th>ycoord</th>\n",
       "      <th>dettypCM</th>\n",
       "      <th>lineCM</th>\n",
       "      <th>detailCM</th>\n",
       "    </tr>\n",
       "  </thead>\n",
       "  <tbody>\n",
       "    <tr>\n",
       "      <th>0</th>\n",
       "      <td>2015</td>\n",
       "      <td>61</td>\n",
       "      <td>18</td>\n",
       "      <td>1012015</td>\n",
       "      <td>315</td>\n",
       "      <td>1</td>\n",
       "      <td>O</td>\n",
       "      <td>P</td>\n",
       "      <td>2</td>\n",
       "      <td>FELONY</td>\n",
       "      <td>...</td>\n",
       "      <td></td>\n",
       "      <td>61</td>\n",
       "      <td>E</td>\n",
       "      <td>7</td>\n",
       "      <td></td>\n",
       "      <td>1000091</td>\n",
       "      <td>156314</td>\n",
       "      <td>CM</td>\n",
       "      <td>1</td>\n",
       "      <td>14</td>\n",
       "    </tr>\n",
       "    <tr>\n",
       "      <th>1</th>\n",
       "      <td>2015</td>\n",
       "      <td>22</td>\n",
       "      <td>5</td>\n",
       "      <td>1152015</td>\n",
       "      <td>1747</td>\n",
       "      <td>A</td>\n",
       "      <td>O</td>\n",
       "      <td>P</td>\n",
       "      <td>1</td>\n",
       "      <td>FELONY</td>\n",
       "      <td>...</td>\n",
       "      <td></td>\n",
       "      <td>22</td>\n",
       "      <td>E</td>\n",
       "      <td>14</td>\n",
       "      <td></td>\n",
       "      <td>994617</td>\n",
       "      <td>227693</td>\n",
       "      <td>CM</td>\n",
       "      <td>1</td>\n",
       "      <td>20</td>\n",
       "    </tr>\n",
       "    <tr>\n",
       "      <th>2</th>\n",
       "      <td>2015</td>\n",
       "      <td>20</td>\n",
       "      <td>36</td>\n",
       "      <td>1292015</td>\n",
       "      <td>1745</td>\n",
       "      <td>1</td>\n",
       "      <td>O</td>\n",
       "      <td>P</td>\n",
       "      <td>1</td>\n",
       "      <td>MISD</td>\n",
       "      <td>...</td>\n",
       "      <td></td>\n",
       "      <td>20</td>\n",
       "      <td>H</td>\n",
       "      <td></td>\n",
       "      <td>16</td>\n",
       "      <td>991510</td>\n",
       "      <td>225019</td>\n",
       "      <td>CM</td>\n",
       "      <td>1</td>\n",
       "      <td>78</td>\n",
       "    </tr>\n",
       "  </tbody>\n",
       "</table>\n",
       "<p>3 rows × 112 columns</p>\n",
       "</div>"
      ],
      "text/plain": [
       "   year  pct  ser_num  datestop  timestop recstat inout trhsloc  perobs  \\\n",
       "0  2015   61       18   1012015       315       1     O       P       2   \n",
       "1  2015   22        5   1152015      1747       A     O       P       1   \n",
       "2  2015   20       36   1292015      1745       1     O       P       1   \n",
       "\n",
       "  crimsusp    ...    zip addrpct sector beat post   xcoord   ycoord dettypCM  \\\n",
       "0   FELONY    ...             61      E    7       1000091   156314       CM   \n",
       "1   FELONY    ...             22      E   14        994617   227693       CM   \n",
       "2     MISD    ...             20      H        16   991510   225019       CM   \n",
       "\n",
       "   lineCM  detailCM  \n",
       "0       1        14  \n",
       "1       1        20  \n",
       "2       1        78  \n",
       "\n",
       "[3 rows x 112 columns]"
      ]
     },
     "execution_count": 14,
     "metadata": {},
     "output_type": "execute_result"
    }
   ],
   "source": [
    "df3.head(3)"
   ]
  },
  {
   "cell_type": "markdown",
   "metadata": {},
   "source": [
    "#### Counting and Sorting Data\n",
    "\n",
    "We can sort the data and pick the top row of the dataframe to be displayed or we can simply use the max function on specific columns.\n",
    "\n",
    "For example, maybe I wanted to know the highest admission rates:"
   ]
  },
  {
   "cell_type": "code",
   "execution_count": 25,
   "metadata": {
    "collapsed": false
   },
   "outputs": [
    {
     "data": {
      "text/html": [
       "<div>\n",
       "<table border=\"1\" class=\"dataframe\">\n",
       "  <thead>\n",
       "    <tr style=\"text-align: right;\">\n",
       "      <th></th>\n",
       "      <th>﻿UNITID</th>\n",
       "      <th>OPEID</th>\n",
       "      <th>opeid6</th>\n",
       "      <th>INSTNM</th>\n",
       "      <th>CITY</th>\n",
       "      <th>STABBR</th>\n",
       "      <th>ZIP</th>\n",
       "      <th>AccredAgency</th>\n",
       "      <th>INSTURL</th>\n",
       "      <th>NPCURL</th>\n",
       "      <th>...</th>\n",
       "      <th>PELL_RPY_3YR_RT_SUPP</th>\n",
       "      <th>NOPELL_RPY_3YR_RT_SUPP</th>\n",
       "      <th>FEMALE_RPY_3YR_RT_SUPP</th>\n",
       "      <th>MALE_RPY_3YR_RT_SUPP</th>\n",
       "      <th>FIRSTGEN_RPY_3YR_RT_SUPP</th>\n",
       "      <th>NOTFIRSTGEN_RPY_3YR_RT_SUPP</th>\n",
       "      <th>C150_L4_POOLED_SUPP</th>\n",
       "      <th>C150_4_POOLED_SUPP</th>\n",
       "      <th>C200_L4_POOLED_SUPP</th>\n",
       "      <th>C200_4_POOLED_SUPP</th>\n",
       "    </tr>\n",
       "  </thead>\n",
       "  <tbody>\n",
       "    <tr>\n",
       "      <th>1279</th>\n",
       "      <td>153241</td>\n",
       "      <td>185800</td>\n",
       "      <td>1858</td>\n",
       "      <td>Divine Word College</td>\n",
       "      <td>Epworth</td>\n",
       "      <td>IA</td>\n",
       "      <td>52045</td>\n",
       "      <td>North Central Association of Colleges and Scho...</td>\n",
       "      <td>www.dwci.edu</td>\n",
       "      <td>www.dwci.edu/Admissions/Tuition-Fees/Net-Price...</td>\n",
       "      <td>...</td>\n",
       "      <td>PrivacySuppressed</td>\n",
       "      <td>PrivacySuppressed</td>\n",
       "      <td>PrivacySuppressed</td>\n",
       "      <td>PrivacySuppressed</td>\n",
       "      <td>PrivacySuppressed</td>\n",
       "      <td>PrivacySuppressed</td>\n",
       "      <td>NaN</td>\n",
       "      <td>0.3095119047619</td>\n",
       "      <td>NaN</td>\n",
       "      <td>0.193</td>\n",
       "    </tr>\n",
       "    <tr>\n",
       "      <th>6208</th>\n",
       "      <td>451398</td>\n",
       "      <td>4131100</td>\n",
       "      <td>41311</td>\n",
       "      <td>Yeshiva Toras Chaim</td>\n",
       "      <td>Lakewood</td>\n",
       "      <td>NJ</td>\n",
       "      <td>08701</td>\n",
       "      <td>Association of Advanced Rabbinical and Talmudi...</td>\n",
       "      <td>NaN</td>\n",
       "      <td>sites.google.com/site/yeshivatoraschaimlakewood</td>\n",
       "      <td>...</td>\n",
       "      <td>NaN</td>\n",
       "      <td>NaN</td>\n",
       "      <td>NaN</td>\n",
       "      <td>NaN</td>\n",
       "      <td>NaN</td>\n",
       "      <td>NaN</td>\n",
       "      <td>NaN</td>\n",
       "      <td>0.02529873417721</td>\n",
       "      <td>NaN</td>\n",
       "      <td>0.0286</td>\n",
       "    </tr>\n",
       "    <tr>\n",
       "      <th>6054</th>\n",
       "      <td>449250</td>\n",
       "      <td>3128102</td>\n",
       "      <td>31281</td>\n",
       "      <td>The College of Health Care Professions-San Ant...</td>\n",
       "      <td>San Antonio</td>\n",
       "      <td>TX</td>\n",
       "      <td>78229</td>\n",
       "      <td>NaN</td>\n",
       "      <td>chcp.edu</td>\n",
       "      <td>www.chcp.edu</td>\n",
       "      <td>...</td>\n",
       "      <td>0.44699777613</td>\n",
       "      <td>0.560714285714</td>\n",
       "      <td>0.486011191047</td>\n",
       "      <td>0.4</td>\n",
       "      <td>0.483311081442</td>\n",
       "      <td>0.446623093682</td>\n",
       "      <td>0.77366326530612</td>\n",
       "      <td>NaN</td>\n",
       "      <td>0.84003214285714</td>\n",
       "      <td>NaN</td>\n",
       "    </tr>\n",
       "  </tbody>\n",
       "</table>\n",
       "<p>3 rows × 1729 columns</p>\n",
       "</div>"
      ],
      "text/plain": [
       "      ﻿UNITID    OPEID  opeid6  \\\n",
       "1279   153241   185800    1858   \n",
       "6208   451398  4131100   41311   \n",
       "6054   449250  3128102   31281   \n",
       "\n",
       "                                                 INSTNM         CITY STABBR  \\\n",
       "1279                                Divine Word College      Epworth     IA   \n",
       "6208                                Yeshiva Toras Chaim     Lakewood     NJ   \n",
       "6054  The College of Health Care Professions-San Ant...  San Antonio     TX   \n",
       "\n",
       "        ZIP                                       AccredAgency       INSTURL  \\\n",
       "1279  52045  North Central Association of Colleges and Scho...  www.dwci.edu   \n",
       "6208  08701  Association of Advanced Rabbinical and Talmudi...           NaN   \n",
       "6054  78229                                                NaN      chcp.edu   \n",
       "\n",
       "                                                 NPCURL         ...          \\\n",
       "1279  www.dwci.edu/Admissions/Tuition-Fees/Net-Price...         ...           \n",
       "6208    sites.google.com/site/yeshivatoraschaimlakewood         ...           \n",
       "6054                                       www.chcp.edu         ...           \n",
       "\n",
       "      PELL_RPY_3YR_RT_SUPP  NOPELL_RPY_3YR_RT_SUPP  FEMALE_RPY_3YR_RT_SUPP  \\\n",
       "1279     PrivacySuppressed       PrivacySuppressed       PrivacySuppressed   \n",
       "6208                   NaN                     NaN                     NaN   \n",
       "6054         0.44699777613          0.560714285714          0.486011191047   \n",
       "\n",
       "      MALE_RPY_3YR_RT_SUPP  FIRSTGEN_RPY_3YR_RT_SUPP  \\\n",
       "1279     PrivacySuppressed         PrivacySuppressed   \n",
       "6208                   NaN                       NaN   \n",
       "6054                   0.4            0.483311081442   \n",
       "\n",
       "      NOTFIRSTGEN_RPY_3YR_RT_SUPP  C150_L4_POOLED_SUPP  C150_4_POOLED_SUPP  \\\n",
       "1279            PrivacySuppressed                  NaN     0.3095119047619   \n",
       "6208                          NaN                  NaN    0.02529873417721   \n",
       "6054               0.446623093682     0.77366326530612                 NaN   \n",
       "\n",
       "      C200_L4_POOLED_SUPP  C200_4_POOLED_SUPP  \n",
       "1279                  NaN               0.193  \n",
       "6208                  NaN              0.0286  \n",
       "6054     0.84003214285714                 NaN  \n",
       "\n",
       "[3 rows x 1729 columns]"
      ]
     },
     "execution_count": 25,
     "metadata": {},
     "output_type": "execute_result"
    }
   ],
   "source": [
    "sorted = df.sort_values(['ADM_RATE'], ascending=False)\n",
    "sorted.head(3)"
   ]
  },
  {
   "cell_type": "markdown",
   "metadata": {},
   "source": [
    "The maximum SAT score in the 75th Percentile."
   ]
  },
  {
   "cell_type": "code",
   "execution_count": 26,
   "metadata": {
    "collapsed": false
   },
   "outputs": [
    {
     "data": {
      "text/plain": [
       "800.0"
      ]
     },
     "execution_count": 26,
     "metadata": {},
     "output_type": "execute_result"
    }
   ],
   "source": [
    "df['SATMT75'].max()"
   ]
  },
  {
   "cell_type": "markdown",
   "metadata": {},
   "source": [
    "We can look at all the schools that have such SAT scores."
   ]
  },
  {
   "cell_type": "code",
   "execution_count": 27,
   "metadata": {
    "collapsed": false
   },
   "outputs": [
    {
     "data": {
      "text/plain": [
       "233        California Institute of Technology\n",
       "352                       Harvey Mudd College\n",
       "1698                       Harvard University\n",
       "1721    Massachusetts Institute of Technology\n",
       "2320                     Princeton University\n",
       "Name: INSTNM, dtype: object"
      ]
     },
     "execution_count": 27,
     "metadata": {},
     "output_type": "execute_result"
    }
   ],
   "source": [
    "df['INSTNM'][df['SATMT75']==df['SATMT75'].max()]"
   ]
  },
  {
   "cell_type": "markdown",
   "metadata": {},
   "source": [
    "Or sort the table based on cost.  (What do you think happens if you do not include the ``ascending=False`` ?)"
   ]
  },
  {
   "cell_type": "code",
   "execution_count": 53,
   "metadata": {
    "collapsed": false
   },
   "outputs": [
    {
     "data": {
      "text/html": [
       "<div>\n",
       "<table border=\"1\" class=\"dataframe\">\n",
       "  <thead>\n",
       "    <tr style=\"text-align: right;\">\n",
       "      <th></th>\n",
       "      <th>﻿UNITID</th>\n",
       "      <th>OPEID</th>\n",
       "      <th>opeid6</th>\n",
       "      <th>INSTNM</th>\n",
       "      <th>CITY</th>\n",
       "      <th>STABBR</th>\n",
       "      <th>ZIP</th>\n",
       "      <th>AccredAgency</th>\n",
       "      <th>INSTURL</th>\n",
       "      <th>NPCURL</th>\n",
       "      <th>...</th>\n",
       "      <th>PELL_RPY_3YR_RT_SUPP</th>\n",
       "      <th>NOPELL_RPY_3YR_RT_SUPP</th>\n",
       "      <th>FEMALE_RPY_3YR_RT_SUPP</th>\n",
       "      <th>MALE_RPY_3YR_RT_SUPP</th>\n",
       "      <th>FIRSTGEN_RPY_3YR_RT_SUPP</th>\n",
       "      <th>NOTFIRSTGEN_RPY_3YR_RT_SUPP</th>\n",
       "      <th>C150_L4_POOLED_SUPP</th>\n",
       "      <th>C150_4_POOLED_SUPP</th>\n",
       "      <th>C200_L4_POOLED_SUPP</th>\n",
       "      <th>C200_4_POOLED_SUPP</th>\n",
       "    </tr>\n",
       "  </thead>\n",
       "  <tbody>\n",
       "    <tr>\n",
       "      <th>5956</th>\n",
       "      <td>447847</td>\n",
       "      <td>3986300</td>\n",
       "      <td>39863</td>\n",
       "      <td>Aviator College of Aeronautical Science and Te...</td>\n",
       "      <td>Fort Pierce</td>\n",
       "      <td>FL</td>\n",
       "      <td>34946</td>\n",
       "      <td>Accrediting Commission of Career Schools and C...</td>\n",
       "      <td>www.aviator.edu</td>\n",
       "      <td>www.aviator.edu/home/fund-your-education/feder...</td>\n",
       "      <td>...</td>\n",
       "      <td>PrivacySuppressed</td>\n",
       "      <td>PrivacySuppressed</td>\n",
       "      <td>PrivacySuppressed</td>\n",
       "      <td>PrivacySuppressed</td>\n",
       "      <td>PrivacySuppressed</td>\n",
       "      <td>PrivacySuppressed</td>\n",
       "      <td>0.60460465116279</td>\n",
       "      <td>NaN</td>\n",
       "      <td>0.899994</td>\n",
       "      <td>NaN</td>\n",
       "    </tr>\n",
       "    <tr>\n",
       "      <th>4372</th>\n",
       "      <td>247649</td>\n",
       "      <td>2532600</td>\n",
       "      <td>25326</td>\n",
       "      <td>Landmark College</td>\n",
       "      <td>Putney</td>\n",
       "      <td>VT</td>\n",
       "      <td>05346</td>\n",
       "      <td>New England Association of Schools and College...</td>\n",
       "      <td>www.landmark.edu</td>\n",
       "      <td>landmark.studentaidcalculator.com/survey.aspx</td>\n",
       "      <td>...</td>\n",
       "      <td>0.75</td>\n",
       "      <td>0.860869565217</td>\n",
       "      <td>0.793103448276</td>\n",
       "      <td>0.829457364341</td>\n",
       "      <td>PrivacySuppressed</td>\n",
       "      <td>0.8375</td>\n",
       "      <td>NaN</td>\n",
       "      <td>0.24313646408839</td>\n",
       "      <td>NaN</td>\n",
       "      <td>NaN</td>\n",
       "    </tr>\n",
       "    <tr>\n",
       "      <th>2604</th>\n",
       "      <td>195304</td>\n",
       "      <td>281300</td>\n",
       "      <td>2813</td>\n",
       "      <td>Sarah Lawrence College</td>\n",
       "      <td>Bronxville</td>\n",
       "      <td>NY</td>\n",
       "      <td>10708</td>\n",
       "      <td>Middle States Commission on Higher Education</td>\n",
       "      <td>www.slc.edu</td>\n",
       "      <td>npc.collegeboard.org//student/app/sarahlawrence</td>\n",
       "      <td>...</td>\n",
       "      <td>0.903225806452</td>\n",
       "      <td>0.944</td>\n",
       "      <td>0.923076923077</td>\n",
       "      <td>0.944444444444</td>\n",
       "      <td>0.909090909091</td>\n",
       "      <td>0.930362116992</td>\n",
       "      <td>NaN</td>\n",
       "      <td>0.72447903225806</td>\n",
       "      <td>NaN</td>\n",
       "      <td>0.73472</td>\n",
       "    </tr>\n",
       "  </tbody>\n",
       "</table>\n",
       "<p>3 rows × 1729 columns</p>\n",
       "</div>"
      ],
      "text/plain": [
       "      ﻿UNITID    OPEID  opeid6  \\\n",
       "5956   447847  3986300   39863   \n",
       "4372   247649  2532600   25326   \n",
       "2604   195304   281300    2813   \n",
       "\n",
       "                                                 INSTNM         CITY STABBR  \\\n",
       "5956  Aviator College of Aeronautical Science and Te...  Fort Pierce     FL   \n",
       "4372                                   Landmark College       Putney     VT   \n",
       "2604                             Sarah Lawrence College   Bronxville     NY   \n",
       "\n",
       "        ZIP                                       AccredAgency  \\\n",
       "5956  34946  Accrediting Commission of Career Schools and C...   \n",
       "4372  05346  New England Association of Schools and College...   \n",
       "2604  10708       Middle States Commission on Higher Education   \n",
       "\n",
       "               INSTURL                                             NPCURL  \\\n",
       "5956   www.aviator.edu  www.aviator.edu/home/fund-your-education/feder...   \n",
       "4372  www.landmark.edu      landmark.studentaidcalculator.com/survey.aspx   \n",
       "2604       www.slc.edu    npc.collegeboard.org//student/app/sarahlawrence   \n",
       "\n",
       "             ...          PELL_RPY_3YR_RT_SUPP  NOPELL_RPY_3YR_RT_SUPP  \\\n",
       "5956         ...             PrivacySuppressed       PrivacySuppressed   \n",
       "4372         ...                          0.75          0.860869565217   \n",
       "2604         ...                0.903225806452                   0.944   \n",
       "\n",
       "      FEMALE_RPY_3YR_RT_SUPP  MALE_RPY_3YR_RT_SUPP  FIRSTGEN_RPY_3YR_RT_SUPP  \\\n",
       "5956       PrivacySuppressed     PrivacySuppressed         PrivacySuppressed   \n",
       "4372          0.793103448276        0.829457364341         PrivacySuppressed   \n",
       "2604          0.923076923077        0.944444444444            0.909090909091   \n",
       "\n",
       "      NOTFIRSTGEN_RPY_3YR_RT_SUPP  C150_L4_POOLED_SUPP  C150_4_POOLED_SUPP  \\\n",
       "5956            PrivacySuppressed     0.60460465116279                 NaN   \n",
       "4372                       0.8375                  NaN    0.24313646408839   \n",
       "2604               0.930362116992                  NaN    0.72447903225806   \n",
       "\n",
       "      C200_L4_POOLED_SUPP  C200_4_POOLED_SUPP  \n",
       "5956             0.899994                 NaN  \n",
       "4372                  NaN                 NaN  \n",
       "2604                  NaN             0.73472  \n",
       "\n",
       "[3 rows x 1729 columns]"
      ]
     },
     "execution_count": 53,
     "metadata": {},
     "output_type": "execute_result"
    }
   ],
   "source": [
    "sortedB = df.sort_values(['COSTT4_A'], ascending=False)\n",
    "sortedB.head(3)"
   ]
  },
  {
   "cell_type": "code",
   "execution_count": 54,
   "metadata": {
    "collapsed": false
   },
   "outputs": [
    {
     "data": {
      "text/html": [
       "<div>\n",
       "<table border=\"1\" class=\"dataframe\">\n",
       "  <thead>\n",
       "    <tr style=\"text-align: right;\">\n",
       "      <th></th>\n",
       "      <th>﻿UNITID</th>\n",
       "      <th>OPEID</th>\n",
       "      <th>opeid6</th>\n",
       "      <th>INSTNM</th>\n",
       "      <th>CITY</th>\n",
       "      <th>STABBR</th>\n",
       "      <th>ZIP</th>\n",
       "      <th>AccredAgency</th>\n",
       "      <th>INSTURL</th>\n",
       "      <th>NPCURL</th>\n",
       "      <th>...</th>\n",
       "      <th>PELL_RPY_3YR_RT_SUPP</th>\n",
       "      <th>NOPELL_RPY_3YR_RT_SUPP</th>\n",
       "      <th>FEMALE_RPY_3YR_RT_SUPP</th>\n",
       "      <th>MALE_RPY_3YR_RT_SUPP</th>\n",
       "      <th>FIRSTGEN_RPY_3YR_RT_SUPP</th>\n",
       "      <th>NOTFIRSTGEN_RPY_3YR_RT_SUPP</th>\n",
       "      <th>C150_L4_POOLED_SUPP</th>\n",
       "      <th>C150_4_POOLED_SUPP</th>\n",
       "      <th>C200_L4_POOLED_SUPP</th>\n",
       "      <th>C200_4_POOLED_SUPP</th>\n",
       "    </tr>\n",
       "  </thead>\n",
       "  <tbody>\n",
       "    <tr>\n",
       "      <th>7801</th>\n",
       "      <td>48285705</td>\n",
       "      <td>157105</td>\n",
       "      <td>1571</td>\n",
       "      <td>Georgia Military College-Warner Robins Campus</td>\n",
       "      <td>Warner Robins</td>\n",
       "      <td>GA</td>\n",
       "      <td>31093</td>\n",
       "      <td>NaN</td>\n",
       "      <td>http://robins.gmc.cc.ga.us/</td>\n",
       "      <td>NaN</td>\n",
       "      <td>...</td>\n",
       "      <td>0.427891480248</td>\n",
       "      <td>0.607753705815</td>\n",
       "      <td>0.490091055169</td>\n",
       "      <td>0.461751152074</td>\n",
       "      <td>0.490384615385</td>\n",
       "      <td>0.495152870992</td>\n",
       "      <td>NaN</td>\n",
       "      <td>NaN</td>\n",
       "      <td>NaN</td>\n",
       "      <td>NaN</td>\n",
       "    </tr>\n",
       "    <tr>\n",
       "      <th>7802</th>\n",
       "      <td>48285706</td>\n",
       "      <td>157100</td>\n",
       "      <td>1571</td>\n",
       "      <td>Georgia Military College-Online</td>\n",
       "      <td>Milledgeville</td>\n",
       "      <td>GA</td>\n",
       "      <td>31061</td>\n",
       "      <td>NaN</td>\n",
       "      <td>http://online.gmc.cc.ga.us/</td>\n",
       "      <td>NaN</td>\n",
       "      <td>...</td>\n",
       "      <td>0.427891480248</td>\n",
       "      <td>0.607753705815</td>\n",
       "      <td>0.490091055169</td>\n",
       "      <td>0.461751152074</td>\n",
       "      <td>0.490384615385</td>\n",
       "      <td>0.495152870992</td>\n",
       "      <td>NaN</td>\n",
       "      <td>NaN</td>\n",
       "      <td>NaN</td>\n",
       "      <td>NaN</td>\n",
       "    </tr>\n",
       "    <tr>\n",
       "      <th>7803</th>\n",
       "      <td>48285707</td>\n",
       "      <td>157103</td>\n",
       "      <td>1571</td>\n",
       "      <td>Georgia Military College-Stone Mountain</td>\n",
       "      <td>Stone Mountain</td>\n",
       "      <td>GA</td>\n",
       "      <td>30083</td>\n",
       "      <td>NaN</td>\n",
       "      <td>http://fairburn.gmc.cc.ga.us/</td>\n",
       "      <td>NaN</td>\n",
       "      <td>...</td>\n",
       "      <td>0.427891480248</td>\n",
       "      <td>0.607753705815</td>\n",
       "      <td>0.490091055169</td>\n",
       "      <td>0.461751152074</td>\n",
       "      <td>0.490384615385</td>\n",
       "      <td>0.495152870992</td>\n",
       "      <td>NaN</td>\n",
       "      <td>NaN</td>\n",
       "      <td>NaN</td>\n",
       "      <td>NaN</td>\n",
       "    </tr>\n",
       "  </tbody>\n",
       "</table>\n",
       "<p>3 rows × 1729 columns</p>\n",
       "</div>"
      ],
      "text/plain": [
       "       ﻿UNITID   OPEID  opeid6                                         INSTNM  \\\n",
       "7801  48285705  157105    1571  Georgia Military College-Warner Robins Campus   \n",
       "7802  48285706  157100    1571                Georgia Military College-Online   \n",
       "7803  48285707  157103    1571        Georgia Military College-Stone Mountain   \n",
       "\n",
       "                CITY STABBR    ZIP AccredAgency  \\\n",
       "7801   Warner Robins     GA  31093          NaN   \n",
       "7802   Milledgeville     GA  31061          NaN   \n",
       "7803  Stone Mountain     GA  30083          NaN   \n",
       "\n",
       "                            INSTURL NPCURL         ...          \\\n",
       "7801    http://robins.gmc.cc.ga.us/    NaN         ...           \n",
       "7802    http://online.gmc.cc.ga.us/    NaN         ...           \n",
       "7803  http://fairburn.gmc.cc.ga.us/    NaN         ...           \n",
       "\n",
       "      PELL_RPY_3YR_RT_SUPP  NOPELL_RPY_3YR_RT_SUPP  FEMALE_RPY_3YR_RT_SUPP  \\\n",
       "7801        0.427891480248          0.607753705815          0.490091055169   \n",
       "7802        0.427891480248          0.607753705815          0.490091055169   \n",
       "7803        0.427891480248          0.607753705815          0.490091055169   \n",
       "\n",
       "      MALE_RPY_3YR_RT_SUPP  FIRSTGEN_RPY_3YR_RT_SUPP  \\\n",
       "7801        0.461751152074            0.490384615385   \n",
       "7802        0.461751152074            0.490384615385   \n",
       "7803        0.461751152074            0.490384615385   \n",
       "\n",
       "      NOTFIRSTGEN_RPY_3YR_RT_SUPP  C150_L4_POOLED_SUPP  C150_4_POOLED_SUPP  \\\n",
       "7801               0.495152870992                  NaN                 NaN   \n",
       "7802               0.495152870992                  NaN                 NaN   \n",
       "7803               0.495152870992                  NaN                 NaN   \n",
       "\n",
       "      C200_L4_POOLED_SUPP  C200_4_POOLED_SUPP  \n",
       "7801                  NaN                 NaN  \n",
       "7802                  NaN                 NaN  \n",
       "7803                  NaN                 NaN  \n",
       "\n",
       "[3 rows x 1729 columns]"
      ]
     },
     "execution_count": 54,
     "metadata": {},
     "output_type": "execute_result"
    }
   ],
   "source": [
    "df.tail(3)"
   ]
  },
  {
   "cell_type": "markdown",
   "metadata": {},
   "source": [
    "We can also count values.  For example, there were apparently no machine guns found in 2015 Stop and Frisks in New York City."
   ]
  },
  {
   "cell_type": "code",
   "execution_count": 21,
   "metadata": {
    "collapsed": false
   },
   "outputs": [
    {
     "data": {
      "text/plain": [
       "N    22563\n",
       "Name: machgun, dtype: int64"
      ]
     },
     "execution_count": 21,
     "metadata": {},
     "output_type": "execute_result"
    }
   ],
   "source": [
    "df3['machgun'].value_counts()"
   ]
  },
  {
   "cell_type": "markdown",
   "metadata": {},
   "source": [
    "There were also 22,563 instances of officers using their hands and physical force during these stops."
   ]
  },
  {
   "cell_type": "code",
   "execution_count": 22,
   "metadata": {
    "collapsed": false
   },
   "outputs": [
    {
     "data": {
      "text/plain": [
       "22563"
      ]
     },
     "execution_count": 22,
     "metadata": {},
     "output_type": "execute_result"
    }
   ],
   "source": [
    "df3['pf_hands'].count()"
   ]
  },
  {
   "cell_type": "markdown",
   "metadata": {},
   "source": [
    "##### Simple Statistics\n",
    "\n",
    "Statistics are easy to calculate with individual functions as well as the ```.describe``` command."
   ]
  },
  {
   "cell_type": "code",
   "execution_count": 30,
   "metadata": {
    "collapsed": false
   },
   "outputs": [
    {
     "data": {
      "text/plain": [
       "450.0"
      ]
     },
     "execution_count": 30,
     "metadata": {},
     "output_type": "execute_result"
    }
   ],
   "source": [
    "df['SATWR25'].median()"
   ]
  },
  {
   "cell_type": "code",
   "execution_count": 31,
   "metadata": {
    "collapsed": false
   },
   "outputs": [
    {
     "data": {
      "text/plain": [
       "310.0"
      ]
     },
     "execution_count": 31,
     "metadata": {},
     "output_type": "execute_result"
    }
   ],
   "source": [
    "df['SATWR25'].min()"
   ]
  },
  {
   "cell_type": "code",
   "execution_count": 32,
   "metadata": {
    "collapsed": false
   },
   "outputs": [
    {
     "data": {
      "text/plain": [
       "720.0"
      ]
     },
     "execution_count": 32,
     "metadata": {},
     "output_type": "execute_result"
    }
   ],
   "source": [
    "df['SATWR25'].max()"
   ]
  },
  {
   "cell_type": "code",
   "execution_count": 33,
   "metadata": {
    "collapsed": false
   },
   "outputs": [
    {
     "data": {
      "text/plain": [
       "0    430\n",
       "dtype: float64"
      ]
     },
     "execution_count": 33,
     "metadata": {},
     "output_type": "execute_result"
    }
   ],
   "source": [
    "df['SATWR25'].mode()"
   ]
  },
  {
   "cell_type": "code",
   "execution_count": 34,
   "metadata": {
    "collapsed": false
   },
   "outputs": [
    {
     "data": {
      "text/plain": [
       "count    793.000000\n",
       "mean     574.356873\n",
       "std       78.560727\n",
       "min      360.000000\n",
       "25%      520.000000\n",
       "50%      560.000000\n",
       "75%      610.000000\n",
       "max      800.000000\n",
       "Name: SATWR75, dtype: float64"
      ]
     },
     "execution_count": 34,
     "metadata": {},
     "output_type": "execute_result"
    }
   ],
   "source": [
    "df['SATWR75'].describe()"
   ]
  },
  {
   "cell_type": "code",
   "execution_count": 23,
   "metadata": {
    "collapsed": false
   },
   "outputs": [
    {
     "data": {
      "text/html": [
       "<div>\n",
       "<table border=\"1\" class=\"dataframe\">\n",
       "  <thead>\n",
       "    <tr style=\"text-align: right;\">\n",
       "      <th></th>\n",
       "      <th>year</th>\n",
       "      <th>pct</th>\n",
       "      <th>ser_num</th>\n",
       "      <th>datestop</th>\n",
       "      <th>timestop</th>\n",
       "      <th>perobs</th>\n",
       "      <th>compyear</th>\n",
       "      <th>comppct</th>\n",
       "      <th>repcmd</th>\n",
       "      <th>revcmd</th>\n",
       "      <th>age</th>\n",
       "      <th>ht_feet</th>\n",
       "      <th>ht_inch</th>\n",
       "      <th>weight</th>\n",
       "      <th>addrpct</th>\n",
       "      <th>lineCM</th>\n",
       "      <th>detailCM</th>\n",
       "    </tr>\n",
       "  </thead>\n",
       "  <tbody>\n",
       "    <tr>\n",
       "      <th>count</th>\n",
       "      <td>22563</td>\n",
       "      <td>22563.000000</td>\n",
       "      <td>22563.000000</td>\n",
       "      <td>22563.000000</td>\n",
       "      <td>22563.000000</td>\n",
       "      <td>22563.000000</td>\n",
       "      <td>22563</td>\n",
       "      <td>22563</td>\n",
       "      <td>22563.000000</td>\n",
       "      <td>22563.000000</td>\n",
       "      <td>22563.000000</td>\n",
       "      <td>22563.000000</td>\n",
       "      <td>22563.000000</td>\n",
       "      <td>22563.000000</td>\n",
       "      <td>22563.000000</td>\n",
       "      <td>22563</td>\n",
       "      <td>22563.000000</td>\n",
       "    </tr>\n",
       "    <tr>\n",
       "      <th>mean</th>\n",
       "      <td>2015</td>\n",
       "      <td>70.031733</td>\n",
       "      <td>256.476045</td>\n",
       "      <td>5957353.385853</td>\n",
       "      <td>1376.855737</td>\n",
       "      <td>2.639144</td>\n",
       "      <td>0</td>\n",
       "      <td>0</td>\n",
       "      <td>229.097771</td>\n",
       "      <td>229.503435</td>\n",
       "      <td>28.960555</td>\n",
       "      <td>5.214333</td>\n",
       "      <td>6.259496</td>\n",
       "      <td>171.360768</td>\n",
       "      <td>70.031733</td>\n",
       "      <td>1</td>\n",
       "      <td>37.794974</td>\n",
       "    </tr>\n",
       "    <tr>\n",
       "      <th>std</th>\n",
       "      <td>0</td>\n",
       "      <td>34.361569</td>\n",
       "      <td>254.200092</td>\n",
       "      <td>3410887.199667</td>\n",
       "      <td>797.759548</td>\n",
       "      <td>7.120538</td>\n",
       "      <td>0</td>\n",
       "      <td>0</td>\n",
       "      <td>284.675031</td>\n",
       "      <td>284.273393</td>\n",
       "      <td>34.621549</td>\n",
       "      <td>0.423130</td>\n",
       "      <td>3.496789</td>\n",
       "      <td>45.147912</td>\n",
       "      <td>34.361569</td>\n",
       "      <td>0</td>\n",
       "      <td>26.254006</td>\n",
       "    </tr>\n",
       "    <tr>\n",
       "      <th>min</th>\n",
       "      <td>2015</td>\n",
       "      <td>1.000000</td>\n",
       "      <td>1.000000</td>\n",
       "      <td>1012015.000000</td>\n",
       "      <td>0.000000</td>\n",
       "      <td>0.000000</td>\n",
       "      <td>0</td>\n",
       "      <td>0</td>\n",
       "      <td>1.000000</td>\n",
       "      <td>1.000000</td>\n",
       "      <td>0.000000</td>\n",
       "      <td>3.000000</td>\n",
       "      <td>0.000000</td>\n",
       "      <td>1.000000</td>\n",
       "      <td>1.000000</td>\n",
       "      <td>1</td>\n",
       "      <td>6.000000</td>\n",
       "    </tr>\n",
       "    <tr>\n",
       "      <th>25%</th>\n",
       "      <td>2015</td>\n",
       "      <td>42.000000</td>\n",
       "      <td>78.000000</td>\n",
       "      <td>3112015.000000</td>\n",
       "      <td>505.000000</td>\n",
       "      <td>1.000000</td>\n",
       "      <td>0</td>\n",
       "      <td>0</td>\n",
       "      <td>66.000000</td>\n",
       "      <td>66.000000</td>\n",
       "      <td>19.000000</td>\n",
       "      <td>5.000000</td>\n",
       "      <td>4.000000</td>\n",
       "      <td>150.000000</td>\n",
       "      <td>42.000000</td>\n",
       "      <td>1</td>\n",
       "      <td>20.000000</td>\n",
       "    </tr>\n",
       "    <tr>\n",
       "      <th>50%</th>\n",
       "      <td>2015</td>\n",
       "      <td>70.000000</td>\n",
       "      <td>175.000000</td>\n",
       "      <td>5282015.000000</td>\n",
       "      <td>1623.000000</td>\n",
       "      <td>1.000000</td>\n",
       "      <td>0</td>\n",
       "      <td>0</td>\n",
       "      <td>106.000000</td>\n",
       "      <td>106.000000</td>\n",
       "      <td>24.000000</td>\n",
       "      <td>5.000000</td>\n",
       "      <td>7.000000</td>\n",
       "      <td>170.000000</td>\n",
       "      <td>70.000000</td>\n",
       "      <td>1</td>\n",
       "      <td>27.000000</td>\n",
       "    </tr>\n",
       "    <tr>\n",
       "      <th>75%</th>\n",
       "      <td>2015</td>\n",
       "      <td>106.000000</td>\n",
       "      <td>359.000000</td>\n",
       "      <td>9012015.000000</td>\n",
       "      <td>2052.000000</td>\n",
       "      <td>2.000000</td>\n",
       "      <td>0</td>\n",
       "      <td>0</td>\n",
       "      <td>186.000000</td>\n",
       "      <td>186.000000</td>\n",
       "      <td>33.000000</td>\n",
       "      <td>5.000000</td>\n",
       "      <td>9.000000</td>\n",
       "      <td>185.000000</td>\n",
       "      <td>106.000000</td>\n",
       "      <td>1</td>\n",
       "      <td>46.000000</td>\n",
       "    </tr>\n",
       "    <tr>\n",
       "      <th>max</th>\n",
       "      <td>2015</td>\n",
       "      <td>123.000000</td>\n",
       "      <td>1524.000000</td>\n",
       "      <td>12312015.000000</td>\n",
       "      <td>2359.000000</td>\n",
       "      <td>535.000000</td>\n",
       "      <td>0</td>\n",
       "      <td>0</td>\n",
       "      <td>878.000000</td>\n",
       "      <td>878.000000</td>\n",
       "      <td>999.000000</td>\n",
       "      <td>7.000000</td>\n",
       "      <td>11.000000</td>\n",
       "      <td>999.000000</td>\n",
       "      <td>123.000000</td>\n",
       "      <td>1</td>\n",
       "      <td>113.000000</td>\n",
       "    </tr>\n",
       "  </tbody>\n",
       "</table>\n",
       "</div>"
      ],
      "text/plain": [
       "        year           pct       ser_num         datestop      timestop  \\\n",
       "count  22563  22563.000000  22563.000000     22563.000000  22563.000000   \n",
       "mean    2015     70.031733    256.476045   5957353.385853   1376.855737   \n",
       "std        0     34.361569    254.200092   3410887.199667    797.759548   \n",
       "min     2015      1.000000      1.000000   1012015.000000      0.000000   \n",
       "25%     2015     42.000000     78.000000   3112015.000000    505.000000   \n",
       "50%     2015     70.000000    175.000000   5282015.000000   1623.000000   \n",
       "75%     2015    106.000000    359.000000   9012015.000000   2052.000000   \n",
       "max     2015    123.000000   1524.000000  12312015.000000   2359.000000   \n",
       "\n",
       "             perobs  compyear  comppct        repcmd        revcmd  \\\n",
       "count  22563.000000     22563    22563  22563.000000  22563.000000   \n",
       "mean       2.639144         0        0    229.097771    229.503435   \n",
       "std        7.120538         0        0    284.675031    284.273393   \n",
       "min        0.000000         0        0      1.000000      1.000000   \n",
       "25%        1.000000         0        0     66.000000     66.000000   \n",
       "50%        1.000000         0        0    106.000000    106.000000   \n",
       "75%        2.000000         0        0    186.000000    186.000000   \n",
       "max      535.000000         0        0    878.000000    878.000000   \n",
       "\n",
       "                age       ht_feet       ht_inch        weight       addrpct  \\\n",
       "count  22563.000000  22563.000000  22563.000000  22563.000000  22563.000000   \n",
       "mean      28.960555      5.214333      6.259496    171.360768     70.031733   \n",
       "std       34.621549      0.423130      3.496789     45.147912     34.361569   \n",
       "min        0.000000      3.000000      0.000000      1.000000      1.000000   \n",
       "25%       19.000000      5.000000      4.000000    150.000000     42.000000   \n",
       "50%       24.000000      5.000000      7.000000    170.000000     70.000000   \n",
       "75%       33.000000      5.000000      9.000000    185.000000    106.000000   \n",
       "max      999.000000      7.000000     11.000000    999.000000    123.000000   \n",
       "\n",
       "       lineCM      detailCM  \n",
       "count   22563  22563.000000  \n",
       "mean        1     37.794974  \n",
       "std         0     26.254006  \n",
       "min         1      6.000000  \n",
       "25%         1     20.000000  \n",
       "50%         1     27.000000  \n",
       "75%         1     46.000000  \n",
       "max         1    113.000000  "
      ]
     },
     "execution_count": 23,
     "metadata": {},
     "output_type": "execute_result"
    }
   ],
   "source": [
    "df3.describe()"
   ]
  },
  {
   "cell_type": "markdown",
   "metadata": {},
   "source": [
    "### Graphing\n",
    "\n",
    "Seaborn makes it easy to generate a variety of different graphs from your data.  Below you will find examples of the following:  \n",
    "\n",
    ">*Histograms*, *Boxplots*, *KDEPlots*, *Distplots*, *Violin Plots*, *Cumulative Distribution Functions*\n",
    "\n",
    "First, suppose we want to make a histogram displaying the average SAT scores.\n"
   ]
  },
  {
   "cell_type": "code",
   "execution_count": 53,
   "metadata": {
    "collapsed": false
   },
   "outputs": [
    {
     "data": {
      "text/plain": [
       "(array([   6.,   32.,  128.,  401.,  485.,  257.,  109.,   60.,   37.,   16.]),\n",
       " array([  666. ,   752.8,   839.6,   926.4,  1013.2,  1100. ,  1186.8,\n",
       "         1273.6,  1360.4,  1447.2,  1534. ]),\n",
       " <a list of 10 Patch objects>)"
      ]
     },
     "execution_count": 53,
     "metadata": {},
     "output_type": "execute_result"
    },
    {
     "data": {
      "image/png": "[encoded data removed]",
      "text/plain": [
       "<matplotlib.figure.Figure at 0x1518f5400>"
      ]
     },
     "metadata": {},
     "output_type": "display_data"
    }
   ],
   "source": [
    "plt.hist(df.SAT_AVG_ALL.dropna())"
   ]
  },
  {
   "cell_type": "markdown",
   "metadata": {},
   "source": [
    "Now suppose we want to look at the Admissions Rate, however we want to include more bars, 20 say."
   ]
  },
  {
   "cell_type": "code",
   "execution_count": 62,
   "metadata": {
    "collapsed": false
   },
   "outputs": [
    {
     "data": {
      "text/plain": [
       "(array([   6.,   11.,   17.,   19.,   19.,   37.,   53.,   65.,   75.,\n",
       "         107.,  138.,  173.,  179.,  213.,  214.,  204.,  180.,  139.,\n",
       "         118.,  253.]),\n",
       " array([ 0.  ,  0.05,  0.1 ,  0.15,  0.2 ,  0.25,  0.3 ,  0.35,  0.4 ,\n",
       "         0.45,  0.5 ,  0.55,  0.6 ,  0.65,  0.7 ,  0.75,  0.8 ,  0.85,\n",
       "         0.9 ,  0.95,  1.  ]),\n",
       " <a list of 20 Patch objects>)"
      ]
     },
     "execution_count": 62,
     "metadata": {},
     "output_type": "execute_result"
    },
    {
     "data": {
      "image/png": "[encoded data removed]",
      "text/plain": [
       "<matplotlib.figure.Figure at 0x2d2da4080>"
      ]
     },
     "metadata": {},
     "output_type": "display_data"
    }
   ],
   "source": [
    "plt.hist(df.ADM_RATE.dropna(),20)\n"
   ]
  },
  {
   "cell_type": "markdown",
   "metadata": {},
   "source": [
    "##### Boxplots\n",
    "\n",
    "We can generate a boxplot of the SAT Average Scores."
   ]
  },
  {
   "cell_type": "code",
   "execution_count": 55,
   "metadata": {
    "collapsed": false
   },
   "outputs": [
    {
     "data": {
      "text/plain": [
       "<matplotlib.axes._subplots.AxesSubplot at 0x14faff358>"
      ]
     },
     "execution_count": 55,
     "metadata": {},
     "output_type": "execute_result"
    },
    {
     "data": {
      "image/png": "[encoded data removed]",
      "text/plain": [
       "<matplotlib.figure.Figure at 0x151855e48>"
      ]
     },
     "metadata": {},
     "output_type": "display_data"
    }
   ],
   "source": [
    "seaborn.boxplot(df.SAT_AVG_ALL.dropna())"
   ]
  },
  {
   "cell_type": "markdown",
   "metadata": {},
   "source": [
    "We can also break this apart based on the cost of the institution."
   ]
  },
  {
   "cell_type": "code",
   "execution_count": 74,
   "metadata": {
    "collapsed": false
   },
   "outputs": [
    {
     "data": {
      "text/plain": [
       "<matplotlib.axes._subplots.AxesSubplot at 0x15f4c8b00>"
      ]
     },
     "execution_count": 74,
     "metadata": {},
     "output_type": "execute_result"
    },
    {
     "data": {
      "image/png": "[encoded data removed]",
      "text/plain": [
       "<matplotlib.figure.Figure at 0x15e3d6be0>"
      ]
     },
     "metadata": {},
     "output_type": "display_data"
    }
   ],
   "source": [
    "seaborn.boxplot(df.SAT_AVG_ALL.dropna(), df.COSTT4_A.dropna())"
   ]
  },
  {
   "cell_type": "markdown",
   "metadata": {},
   "source": [
    "Maybe we want to see how the distribution of scores looks at the different high schools in New York City."
   ]
  },
  {
   "cell_type": "code",
   "execution_count": 64,
   "metadata": {
    "collapsed": false
   },
   "outputs": [
    {
     "data": {
      "text/html": [
       "<div>\n",
       "<table border=\"1\" class=\"dataframe\">\n",
       "  <thead>\n",
       "    <tr style=\"text-align: right;\">\n",
       "      <th></th>\n",
       "      <th>DBN</th>\n",
       "      <th>SCHOOL NAME</th>\n",
       "      <th>Num of SAT Test Takers</th>\n",
       "      <th>SAT Critical Reading Avg. Score</th>\n",
       "      <th>SAT Math Avg. Score</th>\n",
       "      <th>SAT Writing Avg. Score</th>\n",
       "    </tr>\n",
       "  </thead>\n",
       "  <tbody>\n",
       "    <tr>\n",
       "      <th>0</th>\n",
       "      <td>01M292</td>\n",
       "      <td>HENRY STREET SCHOOL FOR INTERNATIONAL STUDIES</td>\n",
       "      <td>29</td>\n",
       "      <td>355</td>\n",
       "      <td>404</td>\n",
       "      <td>363</td>\n",
       "    </tr>\n",
       "    <tr>\n",
       "      <th>1</th>\n",
       "      <td>01M448</td>\n",
       "      <td>UNIVERSITY NEIGHBORHOOD HIGH SCHOOL</td>\n",
       "      <td>91</td>\n",
       "      <td>383</td>\n",
       "      <td>423</td>\n",
       "      <td>366</td>\n",
       "    </tr>\n",
       "    <tr>\n",
       "      <th>2</th>\n",
       "      <td>01M450</td>\n",
       "      <td>EAST SIDE COMMUNITY SCHOOL</td>\n",
       "      <td>70</td>\n",
       "      <td>377</td>\n",
       "      <td>402</td>\n",
       "      <td>370</td>\n",
       "    </tr>\n",
       "  </tbody>\n",
       "</table>\n",
       "</div>"
      ],
      "text/plain": [
       "      DBN                                    SCHOOL NAME  \\\n",
       "0  01M292  HENRY STREET SCHOOL FOR INTERNATIONAL STUDIES   \n",
       "1  01M448            UNIVERSITY NEIGHBORHOOD HIGH SCHOOL   \n",
       "2  01M450                     EAST SIDE COMMUNITY SCHOOL   \n",
       "\n",
       "  Num of SAT Test Takers SAT Critical Reading Avg. Score SAT Math Avg. Score  \\\n",
       "0                     29                             355                 404   \n",
       "1                     91                             383                 423   \n",
       "2                     70                             377                 402   \n",
       "\n",
       "  SAT Writing Avg. Score  \n",
       "0                    363  \n",
       "1                    366  \n",
       "2                    370  "
      ]
     },
     "execution_count": 64,
     "metadata": {},
     "output_type": "execute_result"
    }
   ],
   "source": [
    "df2.head(3)"
   ]
  },
  {
   "cell_type": "markdown",
   "metadata": {},
   "source": [
    "##### KDE Plots\n",
    "\n",
    "Here is a KDE of the SAT Average Scores. These allow you to compare a number of different distributions quickly."
   ]
  },
  {
   "cell_type": "code",
   "execution_count": 75,
   "metadata": {
    "collapsed": false
   },
   "outputs": [
    {
     "data": {
      "text/plain": [
       "<matplotlib.axes._subplots.AxesSubplot at 0x1633ebb70>"
      ]
     },
     "execution_count": 75,
     "metadata": {},
     "output_type": "execute_result"
    },
    {
     "data": {
      "image/png": "[encoded data removed]",
      "text/plain": [
       "<matplotlib.figure.Figure at 0x15f2cbb38>"
      ]
     },
     "metadata": {},
     "output_type": "display_data"
    }
   ],
   "source": [
    "seaborn.kdeplot(df.SAT_AVG_ALL.dropna(), shade=True)"
   ]
  },
  {
   "cell_type": "code",
   "execution_count": 76,
   "metadata": {
    "collapsed": false
   },
   "outputs": [
    {
     "data": {
      "text/plain": [
       "<matplotlib.axes._subplots.AxesSubplot at 0x1640d6940>"
      ]
     },
     "execution_count": 76,
     "metadata": {},
     "output_type": "execute_result"
    },
    {
     "data": {
      "image/png": "[encoded data removed]",
      "text/plain": [
       "<matplotlib.figure.Figure at 0x164132278>"
      ]
     },
     "metadata": {},
     "output_type": "display_data"
    }
   ],
   "source": [
    "seaborn.kdeplot(df.UGDS_BLACK.dropna(), shade=True)"
   ]
  },
  {
   "cell_type": "code",
   "execution_count": 77,
   "metadata": {
    "collapsed": false
   },
   "outputs": [
    {
     "data": {
      "text/plain": [
       "<matplotlib.axes._subplots.AxesSubplot at 0x1641dc2b0>"
      ]
     },
     "execution_count": 77,
     "metadata": {},
     "output_type": "execute_result"
    },
    {
     "data": {
      "image/png": "[encoded data removed]",
      "text/plain": [
       "<matplotlib.figure.Figure at 0x16422b3c8>"
      ]
     },
     "metadata": {},
     "output_type": "display_data"
    }
   ],
   "source": [
    "seaborn.distplot(df.UGDS_BLACK.dropna())"
   ]
  },
  {
   "cell_type": "markdown",
   "metadata": {},
   "source": [
    "##### Violin Plot\n",
    "\n",
    "The violing plots also alow you to see the probabilities at specific values."
   ]
  },
  {
   "cell_type": "code",
   "execution_count": 55,
   "metadata": {
    "collapsed": false
   },
   "outputs": [
    {
     "data": {
      "text/plain": [
       "<matplotlib.axes._subplots.AxesSubplot at 0x12e7d1048>"
      ]
     },
     "execution_count": 55,
     "metadata": {},
     "output_type": "execute_result"
    },
    {
     "data": {
      "image/png": "[encoded data removed]",
      "text/plain": [
       "<matplotlib.figure.Figure at 0x12e7d1e10>"
      ]
     },
     "metadata": {},
     "output_type": "display_data"
    }
   ],
   "source": [
    "seaborn.violinplot(df.TUITIONFEE_IN.dropna(), shade=True)"
   ]
  },
  {
   "cell_type": "code",
   "execution_count": 56,
   "metadata": {
    "collapsed": false
   },
   "outputs": [
    {
     "data": {
      "text/plain": [
       "<matplotlib.axes._subplots.AxesSubplot at 0x12e7d5278>"
      ]
     },
     "execution_count": 56,
     "metadata": {},
     "output_type": "execute_result"
    },
    {
     "data": {
      "image/png": "[encoded data removed]",
      "text/plain": [
       "<matplotlib.figure.Figure at 0x12e7e6b38>"
      ]
     },
     "metadata": {},
     "output_type": "display_data"
    }
   ],
   "source": [
    "seaborn.violinplot(df.TUITIONFEE_OUT.dropna(), shade=True)"
   ]
  },
  {
   "cell_type": "markdown",
   "metadata": {},
   "source": [
    "##### Cumulative Distribution Function"
   ]
  },
  {
   "cell_type": "code",
   "execution_count": 79,
   "metadata": {
    "collapsed": false
   },
   "outputs": [
    {
     "data": {
      "text/plain": [
       "<matplotlib.axes._subplots.AxesSubplot at 0x163ef6f98>"
      ]
     },
     "execution_count": 79,
     "metadata": {},
     "output_type": "execute_result"
    },
    {
     "data": {
      "image/png": "[encoded data removed]",
      "text/plain": [
       "<matplotlib.figure.Figure at 0x16408e940>"
      ]
     },
     "metadata": {},
     "output_type": "display_data"
    }
   ],
   "source": [
    "seaborn.kdeplot(df.TUITIONFEE_IN.dropna(), cumulative=True)"
   ]
  },
  {
   "cell_type": "markdown",
   "metadata": {},
   "source": [
    "##### Some More Advanced Uses\n",
    "\n",
    "We may want to explore if variables are related.  For example, maybe we expect that as the admissions rate of a school increases, the SAT scores for their students would decrease.  We can use the regression plot from seaborn to visualize this fit and use the ```.summary()``` command to get the fit information."
   ]
  },
  {
   "cell_type": "code",
   "execution_count": 97,
   "metadata": {
    "collapsed": true
   },
   "outputs": [],
   "source": [
    "import numpy as np\n",
    "import statsmodels.api as sm\n",
    "import statsmodels.formula.api as smf"
   ]
  },
  {
   "cell_type": "code",
   "execution_count": 102,
   "metadata": {
    "collapsed": false
   },
   "outputs": [
    {
     "data": {
      "image/png": "[encoded data removed]",
      "text/plain": [
       "<matplotlib.figure.Figure at 0x1845ce470>"
      ]
     },
     "metadata": {},
     "output_type": "display_data"
    }
   ],
   "source": [
    "seaborn.regplot(x=\"ADM_RATE\", y=\"SAT_AVG_ALL\", data=df);"
   ]
  },
  {
   "cell_type": "code",
   "execution_count": 48,
   "metadata": {
    "collapsed": false
   },
   "outputs": [
    {
     "data": {
      "text/html": [
       "<table class=\"simpletable\">\n",
       "<caption>OLS Regression Results</caption>\n",
       "<tr>\n",
       "  <th>Dep. Variable:</th>        <td>ADM_RATE</td>     <th>  R-squared:         </th> <td>   0.113</td>\n",
       "</tr>\n",
       "<tr>\n",
       "  <th>Model:</th>                   <td>OLS</td>       <th>  Adj. R-squared:    </th> <td>   0.113</td>\n",
       "</tr>\n",
       "<tr>\n",
       "  <th>Method:</th>             <td>Least Squares</td>  <th>  F-statistic:       </th> <td>   181.6</td>\n",
       "</tr>\n",
       "<tr>\n",
       "  <th>Date:</th>             <td>Sun, 22 May 2016</td> <th>  Prob (F-statistic):</th> <td>4.87e-39</td>\n",
       "</tr>\n",
       "<tr>\n",
       "  <th>Time:</th>                 <td>22:49:58</td>     <th>  Log-Likelihood:    </th> <td>  440.27</td>\n",
       "</tr>\n",
       "<tr>\n",
       "  <th>No. Observations:</th>      <td>  1422</td>      <th>  AIC:               </th> <td>  -876.5</td>\n",
       "</tr>\n",
       "<tr>\n",
       "  <th>Df Residuals:</th>          <td>  1420</td>      <th>  BIC:               </th> <td>  -866.0</td>\n",
       "</tr>\n",
       "<tr>\n",
       "  <th>Df Model:</th>              <td>     1</td>      <th>                     </th>     <td> </td>   \n",
       "</tr>\n",
       "<tr>\n",
       "  <th>Covariance Type:</th>      <td>nonrobust</td>    <th>                     </th>     <td> </td>   \n",
       "</tr>\n",
       "</table>\n",
       "<table class=\"simpletable\">\n",
       "<tr>\n",
       "       <td></td>          <th>coef</th>     <th>std err</th>      <th>t</th>      <th>P>|t|</th> <th>[95.0% Conf. Int.]</th> \n",
       "</tr>\n",
       "<tr>\n",
       "  <th>Intercept</th>   <td>    1.1561</td> <td>    0.038</td> <td>   30.141</td> <td> 0.000</td> <td>    1.081     1.231</td>\n",
       "</tr>\n",
       "<tr>\n",
       "  <th>SAT_AVG_ALL</th> <td>   -0.0005</td> <td> 3.59e-05</td> <td>  -13.476</td> <td> 0.000</td> <td>   -0.001    -0.000</td>\n",
       "</tr>\n",
       "</table>\n",
       "<table class=\"simpletable\">\n",
       "<tr>\n",
       "  <th>Omnibus:</th>       <td>36.369</td> <th>  Durbin-Watson:     </th> <td>   1.786</td>\n",
       "</tr>\n",
       "<tr>\n",
       "  <th>Prob(Omnibus):</th> <td> 0.000</td> <th>  Jarque-Bera (JB):  </th> <td>  38.427</td>\n",
       "</tr>\n",
       "<tr>\n",
       "  <th>Skew:</th>          <td>-0.394</td> <th>  Prob(JB):          </th> <td>4.52e-09</td>\n",
       "</tr>\n",
       "<tr>\n",
       "  <th>Kurtosis:</th>      <td> 2.831</td> <th>  Cond. No.          </th> <td>8.70e+03</td>\n",
       "</tr>\n",
       "</table>"
      ],
      "text/plain": [
       "<class 'statsmodels.iolib.summary.Summary'>\n",
       "\"\"\"\n",
       "                            OLS Regression Results                            \n",
       "==============================================================================\n",
       "Dep. Variable:               ADM_RATE   R-squared:                       0.113\n",
       "Model:                            OLS   Adj. R-squared:                  0.113\n",
       "Method:                 Least Squares   F-statistic:                     181.6\n",
       "Date:                Sun, 22 May 2016   Prob (F-statistic):           4.87e-39\n",
       "Time:                        22:49:58   Log-Likelihood:                 440.27\n",
       "No. Observations:                1422   AIC:                            -876.5\n",
       "Df Residuals:                    1420   BIC:                            -866.0\n",
       "Df Model:                           1                                         \n",
       "Covariance Type:            nonrobust                                         \n",
       "===============================================================================\n",
       "                  coef    std err          t      P>|t|      [95.0% Conf. Int.]\n",
       "-------------------------------------------------------------------------------\n",
       "Intercept       1.1561      0.038     30.141      0.000         1.081     1.231\n",
       "SAT_AVG_ALL    -0.0005   3.59e-05    -13.476      0.000        -0.001    -0.000\n",
       "==============================================================================\n",
       "Omnibus:                       36.369   Durbin-Watson:                   1.786\n",
       "Prob(Omnibus):                  0.000   Jarque-Bera (JB):               38.427\n",
       "Skew:                          -0.394   Prob(JB):                     4.52e-09\n",
       "Kurtosis:                       2.831   Cond. No.                     8.70e+03\n",
       "==============================================================================\n",
       "\n",
       "Warnings:\n",
       "[1] Standard Errors assume that the covariance matrix of the errors is correctly specified.\n",
       "[2] The condition number is large, 8.7e+03. This might indicate that there are\n",
       "strong multicollinearity or other numerical problems.\n",
       "\"\"\""
      ]
     },
     "execution_count": 48,
     "metadata": {},
     "output_type": "execute_result"
    }
   ],
   "source": [
    "results = smf.ols('ADM_RATE~SAT_AVG_ALL', data=df).fit()\n",
    "results.summary()"
   ]
  },
  {
   "cell_type": "markdown",
   "metadata": {
    "collapsed": true
   },
   "source": [
    "Now go explore more about these datasets, or others that you find online."
   ]
  },
  {
   "cell_type": "code",
   "execution_count": null,
   "metadata": {
    "collapsed": true
   },
   "outputs": [],
   "source": []
  }
 ],
 "metadata": {
  "kernelspec": {
   "display_name": "Python 3",
   "language": "python",
   "name": "python3"
  },
  "language_info": {
   "codemirror_mode": {
    "name": "ipython",
    "version": 3
   },
   "file_extension": ".py",
   "mimetype": "text/x-python",
   "name": "python",
   "nbconvert_exporter": "python",
   "pygments_lexer": "ipython3",
   "version": "3.5.1"
  }
 },
 "nbformat": 4,
 "nbformat_minor": 0
}
