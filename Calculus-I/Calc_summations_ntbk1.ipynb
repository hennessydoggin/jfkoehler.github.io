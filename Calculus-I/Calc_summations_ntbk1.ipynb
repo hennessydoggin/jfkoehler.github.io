{
 "cells": [
  {
   "cell_type": "markdown",
   "metadata": {},
   "source": [
    "# Integer Summations\n",
    "\n",
    "We started our class discussing integer summations.  These are important as they will help us resolve our first problems dealing with calculating areas and volumes of more complex regions and solids.  In this notebook, we want to introduce some different ways to investigate and compute summations with the notebooks. The focus will be on the summation $$1+2+3+...+n=\\sum_{i=1}^{n}k$$   \n",
    "\n",
    "First, we can see how to do this like we would with an old hand calculator by simply entering the values."
   ]
  },
  {
   "cell_type": "code",
   "execution_count": null,
   "metadata": {
    "collapsed": false
   },
   "outputs": [],
   "source": [
    "1+2"
   ]
  },
  {
   "cell_type": "code",
   "execution_count": null,
   "metadata": {
    "collapsed": false
   },
   "outputs": [],
   "source": [
    "1+2+3"
   ]
  },
  {
   "cell_type": "code",
   "execution_count": null,
   "metadata": {
    "collapsed": false
   },
   "outputs": [],
   "source": [
    "1+2+3+4"
   ]
  },
  {
   "cell_type": "code",
   "execution_count": null,
   "metadata": {
    "collapsed": false
   },
   "outputs": [],
   "source": [
    "1+2+3+4+5"
   ]
  },
  {
   "cell_type": "markdown",
   "metadata": {},
   "source": [
    "### Summing a list\n",
    "\n",
    "Unless this yields an obvious pattern, we might find such an approach tedious.  Luckily, we can generate short lists and add them using the **numpy** command that we will type\n",
    "`np.sum()`.  This will come from the **numpy** library which we will abbreviate as `np` by importing and renaming.  We do this because we're lazy."
   ]
  },
  {
   "cell_type": "code",
   "execution_count": null,
   "metadata": {
    "collapsed": true
   },
   "outputs": [],
   "source": [
    "import numpy as np"
   ]
  },
  {
   "cell_type": "code",
   "execution_count": null,
   "metadata": {
    "collapsed": false
   },
   "outputs": [],
   "source": [
    "a=[1]\n",
    "b=[1,2]\n",
    "c=[1,2,3]\n",
    "d=[1,2,3,4]\n",
    "e=[1,2,3,4,5]"
   ]
  },
  {
   "cell_type": "code",
   "execution_count": null,
   "metadata": {
    "collapsed": false
   },
   "outputs": [],
   "source": [
    "np.sum(a), np.sum(b), np.sum(c), np.sum(d), np.sum(e)"
   ]
  },
  {
   "cell_type": "markdown",
   "metadata": {},
   "source": [
    "### Using Comprehensions\n",
    "\n",
    "Despite saving ourselves from typing the addition signs, we maybe haven't really saved any work.  Luckily, we can create these lists using a list comprehension.  To do this, we will also need to understand the `range` function that lists a sequence of integers.  First we will show how to use the range function to generate a list of integers.  We will also see the `for` command here. Next, we use the range function to create a list comprehension that will give us a list of the first ten integers.\n",
    "\n"
   ]
  },
  {
   "cell_type": "code",
   "execution_count": null,
   "metadata": {
    "collapsed": false
   },
   "outputs": [],
   "source": [
    "list(range(10))"
   ]
  },
  {
   "cell_type": "code",
   "execution_count": null,
   "metadata": {
    "collapsed": false
   },
   "outputs": [],
   "source": [
    "list(range(1,11))"
   ]
  },
  {
   "cell_type": "code",
   "execution_count": null,
   "metadata": {
    "collapsed": false
   },
   "outputs": [],
   "source": [
    "list(range(1,11,2))"
   ]
  },
  {
   "cell_type": "code",
   "execution_count": null,
   "metadata": {
    "collapsed": false
   },
   "outputs": [],
   "source": [
    "for i in range(1,11):\n",
    "    print(i)"
   ]
  },
  {
   "cell_type": "code",
   "execution_count": null,
   "metadata": {
    "collapsed": false
   },
   "outputs": [],
   "source": [
    "A=[i for i in range(10)]\n",
    "A"
   ]
  },
  {
   "cell_type": "code",
   "execution_count": null,
   "metadata": {
    "collapsed": false
   },
   "outputs": [],
   "source": [
    "np.sum(A)"
   ]
  },
  {
   "cell_type": "code",
   "execution_count": null,
   "metadata": {
    "collapsed": false
   },
   "outputs": [],
   "source": [
    "B = [i for i in range(1,11)]\n",
    "B"
   ]
  },
  {
   "cell_type": "code",
   "execution_count": null,
   "metadata": {
    "collapsed": false
   },
   "outputs": [],
   "source": [
    "np.sum(B)"
   ]
  },
  {
   "cell_type": "code",
   "execution_count": null,
   "metadata": {
    "collapsed": false
   },
   "outputs": [],
   "source": [
    "C= [i**2 for i in range(1,11)]\n",
    "C"
   ]
  },
  {
   "cell_type": "markdown",
   "metadata": {},
   "source": [
    "#### Problems\n",
    "\n",
    "1. Create a list of the first 10 odd integers using a **for** command\n",
    "2. Sum the first 1, 2, 3, 4, and 5 odd integers\n",
    "3. Create a list of the first 5 terms of the sum $$\\sum_{k=1}^{5}\\frac{1}{2^k}$$\n",
    "4. Evaluate the sum $$\\sum_{k=1}^{100}\\frac{1}{2^k}$$"
   ]
  },
  {
   "cell_type": "code",
   "execution_count": null,
   "metadata": {
    "collapsed": false
   },
   "outputs": [],
   "source": [
    "A = [i for i in range(1,20,2)]\n",
    "A"
   ]
  },
  {
   "cell_type": "code",
   "execution_count": null,
   "metadata": {
    "collapsed": false
   },
   "outputs": [],
   "source": [
    "A = list(range(1,21,2))"
   ]
  },
  {
   "cell_type": "code",
   "execution_count": null,
   "metadata": {
    "collapsed": false
   },
   "outputs": [],
   "source": [
    "a= [2*i+1 for i in range(10)]\n",
    "a"
   ]
  },
  {
   "cell_type": "code",
   "execution_count": null,
   "metadata": {
    "collapsed": false
   },
   "outputs": [],
   "source": [
    "s = [1/(2**i) for i in range(1,101)]"
   ]
  },
  {
   "cell_type": "markdown",
   "metadata": {},
   "source": [
    "### Graphing the sums\n",
    "\n",
    "Now we may want to examine the sums graphically.  In order to do so, we can use a **for loop**.  These will be very important tools to run through lists of integers."
   ]
  },
  {
   "cell_type": "code",
   "execution_count": null,
   "metadata": {
    "collapsed": false
   },
   "outputs": [],
   "source": [
    "%matplotlib inline \n",
    "import matplotlib.pyplot as plt #imports and renames the pyplot functions from matplotlib\n"
   ]
  },
  {
   "cell_type": "code",
   "execution_count": null,
   "metadata": {
    "collapsed": false
   },
   "outputs": [],
   "source": [
    "for i in range(1,10):\n",
    "    partials=np.sum(range(1,i+1))\n",
    "    print(i,partials)"
   ]
  },
  {
   "cell_type": "code",
   "execution_count": null,
   "metadata": {
    "collapsed": false
   },
   "outputs": [],
   "source": [
    "for i in range(1,10):\n",
    "    a=i\n",
    "    sum=np.sum(range(1,i+1))\n",
    "    sum_graph= plt.plot(i,sum, 'o')\n",
    "    plt.xlabel('Term')\n",
    "    plt.ylabel('Sum of Integers')\n",
    " "
   ]
  },
  {
   "cell_type": "markdown",
   "metadata": {},
   "source": [
    "#### Problems\n",
    "\n",
    "1. Create an enumerated list of the sum $\\sum_{k=1}^{4}\\frac{1}{2^k}$\n",
    "2. Graph this list\n",
    "3. What do you think happens to the graph as we increase the number of terms?"
   ]
  },
  {
   "cell_type": "code",
   "execution_count": null,
   "metadata": {
    "collapsed": true
   },
   "outputs": [],
   "source": []
  },
  {
   "cell_type": "code",
   "execution_count": null,
   "metadata": {
    "collapsed": true
   },
   "outputs": [],
   "source": []
  },
  {
   "cell_type": "code",
   "execution_count": null,
   "metadata": {
    "collapsed": true
   },
   "outputs": [],
   "source": []
  },
  {
   "cell_type": "markdown",
   "metadata": {
    "collapsed": false
   },
   "source": [
    "### Making a pcolor visualization\n",
    "\n",
    "This is a more advanced graphic that we saw in our lecture and in our reading that creates a rectangular grid that helps us understand the triangular numbers.  We use a **pcolor** graph as well as the **interact** feature to construct the image of the triangular numbers and then adjust how many terms we are including.  We will also use the **np.zeros** command to generate an $n$ by $n+1$ rectangular array that is updated as we change the number of terms we are summing."
   ]
  },
  {
   "cell_type": "code",
   "execution_count": null,
   "metadata": {
    "collapsed": true
   },
   "outputs": [],
   "source": [
    "from ipywidgets import interact, widgets, fixed "
   ]
  },
  {
   "cell_type": "code",
   "execution_count": null,
   "metadata": {
    "collapsed": false
   },
   "outputs": [],
   "source": [
    "np.zeros((3,4))"
   ]
  },
  {
   "cell_type": "code",
   "execution_count": null,
   "metadata": {
    "collapsed": true
   },
   "outputs": [],
   "source": [
    "def tri_numplot(n=4):\n",
    "    plt.figure(figsize=(6.0, 6.0))\n",
    "    a=np.zeros((n,n+1))#creates an n by n+1 array of zeros\n",
    "    for i in range(n):\n",
    "        for j in range(i+1):\n",
    "            a[i,j]=1\n",
    "    a=np.flipud(a)        \n",
    "    plt.pcolor(a, edgecolors='k', linewidths=4)\n",
    "    plt.axis('tight')\n",
    "    plt.axis('off')\n",
    "            "
   ]
  },
  {
   "cell_type": "code",
   "execution_count": null,
   "metadata": {
    "collapsed": false
   },
   "outputs": [],
   "source": [
    "tri_numplot(4)"
   ]
  },
  {
   "cell_type": "code",
   "execution_count": null,
   "metadata": {
    "collapsed": false
   },
   "outputs": [],
   "source": [
    "interact(tri_numplot, n=widgets.IntSlider(min=1, max=100, step=1, value=1));"
   ]
  },
  {
   "cell_type": "markdown",
   "metadata": {
    "collapsed": true
   },
   "source": [
    "### Symbolic Summations\n",
    "\n",
    "The **sympy** library allows the use of symbolic computation, and will generate some expected solutions to the problems of Archimedes quadrature, and the sums of integers to powers.\n"
   ]
  },
  {
   "cell_type": "code",
   "execution_count": null,
   "metadata": {
    "collapsed": true
   },
   "outputs": [],
   "source": [
    "from sympy import Symbol, summation, symbols, oo\n",
    "i,n,m = symbols('i n m', integer=True)"
   ]
  },
  {
   "cell_type": "code",
   "execution_count": null,
   "metadata": {
    "collapsed": false
   },
   "outputs": [],
   "source": [
    "summation(1/4**i, (i,1,n))"
   ]
  },
  {
   "cell_type": "code",
   "execution_count": null,
   "metadata": {
    "collapsed": false
   },
   "outputs": [],
   "source": [
    "summation(1/4**i, (i,1,oo))"
   ]
  },
  {
   "cell_type": "code",
   "execution_count": null,
   "metadata": {
    "collapsed": false
   },
   "outputs": [],
   "source": [
    "summation(i, (i, 1, n))"
   ]
  },
  {
   "cell_type": "code",
   "execution_count": null,
   "metadata": {
    "collapsed": false
   },
   "outputs": [],
   "source": [
    "summation(i**2, (i, 1, n))"
   ]
  },
  {
   "cell_type": "code",
   "execution_count": null,
   "metadata": {
    "collapsed": false
   },
   "outputs": [],
   "source": [
    "summation(i**3, (i, 1, n))"
   ]
  },
  {
   "cell_type": "code",
   "execution_count": null,
   "metadata": {
    "collapsed": false
   },
   "outputs": [],
   "source": [
    "summation(i**4, (i, 1, n))"
   ]
  },
  {
   "cell_type": "markdown",
   "metadata": {},
   "source": [
    "### Patterns in Expressions\n",
    "\n",
    "We can also use `sympy` to expand binomial expressions.  Here we look to see if there is a pattern in the coefficients."
   ]
  },
  {
   "cell_type": "code",
   "execution_count": null,
   "metadata": {
    "collapsed": false
   },
   "outputs": [],
   "source": [
    "from sympy import Symbol, expand\n",
    "x= Symbol('x')\n",
    "y = Symbol('y')\n",
    "expr1 = (x + y)**1\n",
    "expand(expr1)"
   ]
  },
  {
   "cell_type": "code",
   "execution_count": null,
   "metadata": {
    "collapsed": false
   },
   "outputs": [],
   "source": [
    "expr2= (x+y)**2\n",
    "expand(expr2)"
   ]
  },
  {
   "cell_type": "code",
   "execution_count": null,
   "metadata": {
    "collapsed": false
   },
   "outputs": [],
   "source": [
    "from sympy import pprint\n",
    "pprint(expand(expr2))"
   ]
  },
  {
   "cell_type": "markdown",
   "metadata": {
    "collapsed": true
   },
   "source": [
    "#### Continue the Work\n",
    "\n",
    "Continue to expand expressions \n",
    "\n",
    "$$(x+y)^n \\quad \\text{for} \\quad n=1,2,3,4,\\text{and} \\quad 5.$$\n",
    "\n",
    "Do you recognize the pattern in coefficients?\n"
   ]
  },
  {
   "cell_type": "code",
   "execution_count": null,
   "metadata": {
    "collapsed": false
   },
   "outputs": [],
   "source": [
    "expr3 = (x+y)**3\n",
    "pprint(expand(expr3))"
   ]
  },
  {
   "cell_type": "code",
   "execution_count": null,
   "metadata": {
    "collapsed": true
   },
   "outputs": [],
   "source": []
  },
  {
   "cell_type": "code",
   "execution_count": null,
   "metadata": {
    "collapsed": true
   },
   "outputs": [],
   "source": []
  }
 ],
 "metadata": {
  "kernelspec": {
   "display_name": "Python 3",
   "language": "python",
   "name": "python3"
  },
  "language_info": {
   "codemirror_mode": {
    "name": "ipython",
    "version": 3
   },
   "file_extension": ".py",
   "mimetype": "text/x-python",
   "name": "python",
   "nbconvert_exporter": "python",
   "pygments_lexer": "ipython3",
   "version": "3.5.1"
  }
 },
 "nbformat": 4,
 "nbformat_minor": 0
}
