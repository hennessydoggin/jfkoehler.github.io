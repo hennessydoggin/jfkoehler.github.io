{
 "cells": [
  {
   "cell_type": "markdown",
   "metadata": {},
   "source": [
    "# Area and Integration with iPython\n",
    "\n",
    "In this notebook, we will solve problems involving area, volume, and applications of the Reimann integral as an accumulator.  First, observe how to draw the graph of a function and the area bounded by the graph and the $x$-axis."
   ]
  },
  {
   "cell_type": "code",
   "execution_count": 1,
   "metadata": {
    "collapsed": false
   },
   "outputs": [],
   "source": [
    "%matplotlib inline\n",
    "import numpy as np\n",
    "import matplotlib.pyplot as plt\n",
    "import sympy as sy"
   ]
  },
  {
   "cell_type": "markdown",
   "metadata": {},
   "source": [
    "#### Problem\n",
    "\n",
    "From Homework #2, describe the area represented by the following integral and find its area using geometry.\n",
    "\n",
    "$$\\int_0^5 \\sqrt{25-x^2}dx$$"
   ]
  },
  {
   "cell_type": "code",
   "execution_count": 2,
   "metadata": {
    "collapsed": false
   },
   "outputs": [
    {
     "name": "stderr",
     "output_type": "stream",
     "text": [
      "/Users/NYCMath/anaconda/lib/python3.5/site-packages/ipykernel/__main__.py:2: RuntimeWarning: invalid value encountered in sqrt\n",
      "  from ipykernel import kernelapp as app\n"
     ]
    },
    {
     "data": {
      "text/plain": [
       "<matplotlib.collections.PolyCollection at 0x109072668>"
      ]
     },
     "execution_count": 2,
     "metadata": {},
     "output_type": "execute_result"
    },
    {
     "data": {
      "image/png": "[encoded data removed]",
      "text/plain": [
       "<matplotlib.figure.Figure at 0x109072dd8>"
      ]
     },
     "metadata": {},
     "output_type": "display_data"
    }
   ],
   "source": [
    "x1 = np.linspace(0.0, 5.1, 10000) #Generate our x-values\n",
    "y = np.sqrt(25-x1**2) #The function to be graphed\n",
    "plt.plot(x1,y,color='k', lw=2.5) #Graphs the curve\n",
    "plt.fill_between(x1,y,0,alpha=0.5,color='#F0E68C') #Fills underneath, there are a variety of colors to choose from"
   ]
  },
  {
   "cell_type": "markdown",
   "metadata": {},
   "source": [
    "##### Solution\n",
    "\n",
    "Because this is a quarter circle of radius 5, we have $$\\text{Area} = \\frac{1}{4} \\pi r^2$$\n",
    "\n",
    "or \n",
    "\n",
    "$$\\frac{1}{4} \\pi (5^2) \\rightarrow \\frac{25\\pi}{4}$$\n",
    "\n",
    "Below we compute the definite integral using sympy."
   ]
  },
  {
   "cell_type": "code",
   "execution_count": 3,
   "metadata": {
    "collapsed": false
   },
   "outputs": [],
   "source": [
    "x = sy.Symbol('x')"
   ]
  },
  {
   "cell_type": "code",
   "execution_count": 4,
   "metadata": {
    "collapsed": false
   },
   "outputs": [
    {
     "data": {
      "text/plain": [
       "25*pi/4"
      ]
     },
     "execution_count": 4,
     "metadata": {},
     "output_type": "execute_result"
    }
   ],
   "source": [
    "sy.integrate(sy.sqrt(25 - x**2), (x,0,5))"
   ]
  },
  {
   "cell_type": "markdown",
   "metadata": {},
   "source": [
    "### A Second Example with One Curve\n",
    "\n",
    "Let's find the area under the curve $f(x) = x^3 - 13x + 12$ on $[-5,5]$.  First we will graph this, then we can find the value of the definite integral."
   ]
  },
  {
   "cell_type": "code",
   "execution_count": 5,
   "metadata": {
    "collapsed": false
   },
   "outputs": [
    {
     "data": {
      "text/plain": [
       "<matplotlib.text.Text at 0x109679d68>"
      ]
     },
     "execution_count": 5,
     "metadata": {},
     "output_type": "execute_result"
    },
    {
     "data": {
      "image/png": "[encoded data removed]",
      "text/plain": [
       "<matplotlib.figure.Figure at 0x109639c88>"
      ]
     },
     "metadata": {},
     "output_type": "display_data"
    }
   ],
   "source": [
    "x = np.linspace(-5.0, 5.0, 100)\n",
    "y = x**3 - 13*x +12\n",
    "plt.plot(x,y,color='k', lw=2.0)\n",
    "plt.fill_between(x,y,0,alpha=1.0,color='#BDD0D7')\n",
    "plt.xlim(-5,5)\n",
    "plt.axhline(color='black')\n",
    "plt.axvline(color='black')\n",
    "plt.xlabel('x-axis')\n",
    "plt.ylabel('y-axis')\n",
    "plt.title('$\\int_{-5}^5 x^3 - 13x + 12 dx$', y=1.08, fontsize=18)\n"
   ]
  },
  {
   "cell_type": "code",
   "execution_count": 6,
   "metadata": {
    "collapsed": true
   },
   "outputs": [],
   "source": [
    "x = sy.Symbol('x')"
   ]
  },
  {
   "cell_type": "code",
   "execution_count": 7,
   "metadata": {
    "collapsed": false
   },
   "outputs": [
    {
     "data": {
      "text/plain": [
       "120"
      ]
     },
     "execution_count": 7,
     "metadata": {},
     "output_type": "execute_result"
    }
   ],
   "source": [
    "sy.integrate(x**3 - 13*x + 12, (x,-5,5))"
   ]
  },
  {
   "cell_type": "markdown",
   "metadata": {},
   "source": [
    "### Problem\n",
    "\n",
    "Write a block in markup demonstrating what the definite integral that represents the area graphed below is, then find the area using the integrate command."
   ]
  },
  {
   "cell_type": "code",
   "execution_count": 8,
   "metadata": {
    "collapsed": false
   },
   "outputs": [
    {
     "data": {
      "text/plain": [
       "<matplotlib.lines.Line2D at 0x10a523860>"
      ]
     },
     "execution_count": 8,
     "metadata": {},
     "output_type": "execute_result"
    },
    {
     "data": {
      "image/png": "[encoded data removed]",
      "text/plain": [
       "<matplotlib.figure.Figure at 0x10a036d30>"
      ]
     },
     "metadata": {},
     "output_type": "display_data"
    }
   ],
   "source": [
    "x = np.linspace(-1.5, 1.5, 100)\n",
    "y = x**5 + 2*x**4 + (x**3)/4 -(3*x**2)/4\n",
    "plt.plot(x,y,color='k', lw=2.0)\n",
    "plt.fill_between(x,y,0,alpha=1.0,color='#9932CC')\n",
    "plt.xlim(-1.2,0.6)\n",
    "plt.ylim(-0.2, 0.4)\n",
    "plt.axhline(color='black')\n",
    "plt.axvline(color='black')"
   ]
  },
  {
   "cell_type": "code",
   "execution_count": null,
   "metadata": {
    "collapsed": true
   },
   "outputs": [],
   "source": []
  },
  {
   "cell_type": "code",
   "execution_count": null,
   "metadata": {
    "collapsed": true
   },
   "outputs": [],
   "source": []
  },
  {
   "cell_type": "markdown",
   "metadata": {},
   "source": [
    "### Area Between Two Curves\n",
    "\n",
    "We can represent problems with areas between curves in a similar manner.  Here, the logic is to shade white under the lower curve so as to leave just the area between.  For example, maybe we want to find the area between the curves\n",
    "\n",
    "$$y=x^2 \\quad \\text{and} \\quad y=4x-x^2$$\n",
    "\n",
    "First we will find the point of intersection, then we will graph the functions and shade between them.  Finally we will compute the area."
   ]
  },
  {
   "cell_type": "code",
   "execution_count": 54,
   "metadata": {
    "collapsed": true
   },
   "outputs": [],
   "source": [
    "from sympy import Symbol, solve"
   ]
  },
  {
   "cell_type": "code",
   "execution_count": 55,
   "metadata": {
    "collapsed": false
   },
   "outputs": [],
   "source": [
    "x = Symbol('x')"
   ]
  },
  {
   "cell_type": "code",
   "execution_count": 56,
   "metadata": {
    "collapsed": false
   },
   "outputs": [
    {
     "data": {
      "text/plain": [
       "[0, 2]"
      ]
     },
     "execution_count": 56,
     "metadata": {},
     "output_type": "execute_result"
    }
   ],
   "source": [
    "f = x**2\n",
    "g = 4*x - x**2\n",
    "expr = f - g\n",
    "solve(expr)"
   ]
  },
  {
   "cell_type": "code",
   "execution_count": 57,
   "metadata": {
    "collapsed": false
   },
   "outputs": [],
   "source": [
    "a = 0\n",
    "b = 2 \n",
    "f= x**2\n",
    "g= 4*x-x**2"
   ]
  },
  {
   "cell_type": "code",
   "execution_count": 58,
   "metadata": {
    "collapsed": false
   },
   "outputs": [],
   "source": [
    "af = sy.integrate(f, (x,a,b))\n",
    "ag = sy.integrate(g, (x,a,b))\n",
    "area = ag - af"
   ]
  },
  {
   "cell_type": "code",
   "execution_count": 59,
   "metadata": {
    "collapsed": false
   },
   "outputs": [
    {
     "name": "stdout",
     "output_type": "stream",
     "text": [
      "The area between the two curves is given by  16/3 - 8/3 = 8/3\n"
     ]
    }
   ],
   "source": [
    "print('The area between the two curves is given by ', ag, '-', af, '=', area)"
   ]
  },
  {
   "cell_type": "code",
   "execution_count": 60,
   "metadata": {
    "collapsed": false
   },
   "outputs": [
    {
     "data": {
      "text/plain": [
       "<function matplotlib.pyplot.show>"
      ]
     },
     "execution_count": 60,
     "metadata": {},
     "output_type": "execute_result"
    },
    {
     "data": {
      "image/png": "[encoded data removed]",
      "text/plain": [
       "<matplotlib.figure.Figure at 0x1106cd320>"
      ]
     },
     "metadata": {},
     "output_type": "display_data"
    }
   ],
   "source": [
    "x = np.linspace(a, b, 200)\n",
    "f = x**2\n",
    "g = 4*x-x**2\n",
    "plt.plot(x, f, color = 'black', lw=4.0)\n",
    "plt.fill_between(x, f, g, where = (x>=a), color='#F0FFF0')\n",
    "plt.plot(x, g, color = 'black', lw = 4.0)\n",
    "#plt.fill_between(x,yg,0,alpha=1.0, color='grey')\n",
    "plt.grid(True)\n",
    "plt.axis('equal')\n",
    "plt.ylabel('y')\n",
    "plt.xlabel('x')\n",
    "#plt.axhline(color='black', lw=1)\n",
    "#plt.axvline(color='black', lw=1)\n",
    "#plt.plot([b, b], [0,], 'k-', lw=1.0)\n",
    "plt.show"
   ]
  },
  {
   "cell_type": "code",
   "execution_count": null,
   "metadata": {
    "collapsed": true
   },
   "outputs": [],
   "source": []
  }
 ],
 "metadata": {
  "kernelspec": {
   "display_name": "Python 3",
   "language": "python",
   "name": "python3"
  },
  "language_info": {
   "codemirror_mode": {
    "name": "ipython",
    "version": 3
   },
   "file_extension": ".py",
   "mimetype": "text/x-python",
   "name": "python",
   "nbconvert_exporter": "python",
   "pygments_lexer": "ipython3",
   "version": "3.5.1"
  }
 },
 "nbformat": 4,
 "nbformat_minor": 0
}
